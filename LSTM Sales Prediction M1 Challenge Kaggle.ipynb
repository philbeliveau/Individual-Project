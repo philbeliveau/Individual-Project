{
 "cells": [
  {
   "cell_type": "markdown",
   "id": "39c2f754",
   "metadata": {},
   "source": [
    "## Import packages and data"
   ]
  },
  {
   "cell_type": "code",
   "execution_count": 1,
   "id": "f3a4eebc",
   "metadata": {
    "scrolled": true
   },
   "outputs": [],
   "source": [
    "from sklearn.model_selection import train_test_split\n",
    "from sklearn.metrics import mean_absolute_error\n",
    "\n",
    "#import lightgbm as lgb\n",
    "import pandas as pd\n",
    "import numpy as np\n",
    "import matplotlib.pyplot as plt\n",
    "import os\n",
    "import sys"
   ]
  },
  {
   "cell_type": "code",
   "execution_count": 2,
   "id": "1ce4a247",
   "metadata": {},
   "outputs": [
    {
     "name": "stderr",
     "output_type": "stream",
     "text": [
      "2022-12-20 18:09:22.889669: I tensorflow/core/platform/cpu_feature_guard.cc:193] This TensorFlow binary is optimized with oneAPI Deep Neural Network Library (oneDNN) to use the following CPU instructions in performance-critical operations:  SSE4.1 SSE4.2\n",
      "To enable them in other operations, rebuild TensorFlow with the appropriate compiler flags.\n"
     ]
    }
   ],
   "source": [
    "import pandas as pd\n",
    "import matplotlib as mpl\n",
    "import matplotlib.pyplot as plt\n",
    "from sklearn.model_selection import train_test_split\n",
    "\n",
    "from sklearn.preprocessing import MinMaxScaler, StandardScaler\n",
    "import tensorflow as tf\n",
    "from tensorflow import keras\n",
    "from tensorflow.keras.preprocessing.sequence import TimeseriesGenerator"
   ]
  },
  {
   "cell_type": "code",
   "execution_count": 3,
   "id": "959be7a8",
   "metadata": {},
   "outputs": [],
   "source": [
    "df_item=pd.read_csv('/Users/philippebeliveau/Desktop/Bureau/Notebook_Jupyter_&_R/I2A2 Notebook copy/Deep AR M1 CHALLENGE /datah-m1-challange/meta-item.csv')\n",
    "df_store=pd.read_csv('/Users/philippebeliveau/Desktop/Bureau/Notebook_Jupyter_&_R/I2A2 Notebook copy/Deep AR M1 CHALLENGE /datah-m1-challange/meta-store.csv')\n",
    "df_sales=pd.read_csv('/Users/philippebeliveau/Desktop/Bureau/Notebook_Jupyter_&_R/I2A2 Notebook copy/Deep AR M1 CHALLENGE /datah-m1-challange/sales.csv')\n",
    "\n",
    "df_submission=pd.read_csv('submission_sample.csv')\n",
    "df_submission[['DATE', 'S100', 'I100', 'C100', 'C101']] = df_submission['ID'].str.split('_',expand=True)\n",
    "df_submission['S100']=df_submission['S100'].astype(int)\n",
    "df_submission['I100']=df_submission['I100'].astype(int)"
   ]
  },
  {
   "cell_type": "code",
   "execution_count": 4,
   "id": "e58115a6",
   "metadata": {},
   "outputs": [],
   "source": [
    "def preprocess(df):\n",
    "    \n",
    "    df[['year', 'month', 'day']] = df['DATE'].str.split('-',expand=True)\n",
    "    \n",
    "    for value in [ 'S100', 'I100', 'C100', 'C101','month', 'year', 'day']:        \n",
    "        df[value] = df[value].astype(str).astype(int)\n",
    "    \n",
    "    df = df.merge(df_item,on=['I100'])\n",
    "    df = df.merge(df_store,on=['S100'])\n",
    "    \n",
    "\n",
    "    df['DATE'] = pd.to_datetime(df['DATE']).dt.strftime('%Y-%m-%d')    \n",
    "    return df"
   ]
  },
  {
   "cell_type": "code",
   "execution_count": 5,
   "id": "08a896e4",
   "metadata": {},
   "outputs": [
    {
     "data": {
      "text/html": [
       "<div>\n",
       "<style scoped>\n",
       "    .dataframe tbody tr th:only-of-type {\n",
       "        vertical-align: middle;\n",
       "    }\n",
       "\n",
       "    .dataframe tbody tr th {\n",
       "        vertical-align: top;\n",
       "    }\n",
       "\n",
       "    .dataframe thead th {\n",
       "        text-align: right;\n",
       "    }\n",
       "</style>\n",
       "<table border=\"1\" class=\"dataframe\">\n",
       "  <thead>\n",
       "    <tr style=\"text-align: right;\">\n",
       "      <th></th>\n",
       "      <th>ID</th>\n",
       "      <th>QTT</th>\n",
       "      <th>DATE</th>\n",
       "      <th>S100</th>\n",
       "      <th>I100</th>\n",
       "      <th>C100</th>\n",
       "      <th>C101</th>\n",
       "      <th>year</th>\n",
       "      <th>month</th>\n",
       "      <th>day</th>\n",
       "      <th>I101</th>\n",
       "      <th>I102</th>\n",
       "      <th>I103</th>\n",
       "      <th>S101</th>\n",
       "      <th>S102</th>\n",
       "      <th>S103</th>\n",
       "    </tr>\n",
       "  </thead>\n",
       "  <tbody>\n",
       "    <tr>\n",
       "      <th>0</th>\n",
       "      <td>2021-10-03_0_1_12_140</td>\n",
       "      <td>-1</td>\n",
       "      <td>2021-10-03</td>\n",
       "      <td>0</td>\n",
       "      <td>1</td>\n",
       "      <td>12</td>\n",
       "      <td>140</td>\n",
       "      <td>2021</td>\n",
       "      <td>10</td>\n",
       "      <td>3</td>\n",
       "      <td>2</td>\n",
       "      <td>1</td>\n",
       "      <td>1</td>\n",
       "      <td>1</td>\n",
       "      <td>17</td>\n",
       "      <td>10</td>\n",
       "    </tr>\n",
       "    <tr>\n",
       "      <th>1</th>\n",
       "      <td>2021-10-03_0_1_12_164</td>\n",
       "      <td>-1</td>\n",
       "      <td>2021-10-03</td>\n",
       "      <td>0</td>\n",
       "      <td>1</td>\n",
       "      <td>12</td>\n",
       "      <td>164</td>\n",
       "      <td>2021</td>\n",
       "      <td>10</td>\n",
       "      <td>3</td>\n",
       "      <td>2</td>\n",
       "      <td>1</td>\n",
       "      <td>1</td>\n",
       "      <td>1</td>\n",
       "      <td>17</td>\n",
       "      <td>10</td>\n",
       "    </tr>\n",
       "    <tr>\n",
       "      <th>2</th>\n",
       "      <td>2021-10-03_0_1_12_339</td>\n",
       "      <td>-1</td>\n",
       "      <td>2021-10-03</td>\n",
       "      <td>0</td>\n",
       "      <td>1</td>\n",
       "      <td>12</td>\n",
       "      <td>339</td>\n",
       "      <td>2021</td>\n",
       "      <td>10</td>\n",
       "      <td>3</td>\n",
       "      <td>2</td>\n",
       "      <td>1</td>\n",
       "      <td>1</td>\n",
       "      <td>1</td>\n",
       "      <td>17</td>\n",
       "      <td>10</td>\n",
       "    </tr>\n",
       "    <tr>\n",
       "      <th>3</th>\n",
       "      <td>2021-10-03_0_1_13_128</td>\n",
       "      <td>-1</td>\n",
       "      <td>2021-10-03</td>\n",
       "      <td>0</td>\n",
       "      <td>1</td>\n",
       "      <td>13</td>\n",
       "      <td>128</td>\n",
       "      <td>2021</td>\n",
       "      <td>10</td>\n",
       "      <td>3</td>\n",
       "      <td>2</td>\n",
       "      <td>1</td>\n",
       "      <td>1</td>\n",
       "      <td>1</td>\n",
       "      <td>17</td>\n",
       "      <td>10</td>\n",
       "    </tr>\n",
       "    <tr>\n",
       "      <th>4</th>\n",
       "      <td>2021-10-03_0_1_14_164</td>\n",
       "      <td>-1</td>\n",
       "      <td>2021-10-03</td>\n",
       "      <td>0</td>\n",
       "      <td>1</td>\n",
       "      <td>14</td>\n",
       "      <td>164</td>\n",
       "      <td>2021</td>\n",
       "      <td>10</td>\n",
       "      <td>3</td>\n",
       "      <td>2</td>\n",
       "      <td>1</td>\n",
       "      <td>1</td>\n",
       "      <td>1</td>\n",
       "      <td>17</td>\n",
       "      <td>10</td>\n",
       "    </tr>\n",
       "  </tbody>\n",
       "</table>\n",
       "</div>"
      ],
      "text/plain": [
       "                      ID  QTT        DATE  S100  I100  C100  C101  year  \\\n",
       "0  2021-10-03_0_1_12_140   -1  2021-10-03     0     1    12   140  2021   \n",
       "1  2021-10-03_0_1_12_164   -1  2021-10-03     0     1    12   164  2021   \n",
       "2  2021-10-03_0_1_12_339   -1  2021-10-03     0     1    12   339  2021   \n",
       "3  2021-10-03_0_1_13_128   -1  2021-10-03     0     1    13   128  2021   \n",
       "4  2021-10-03_0_1_14_164   -1  2021-10-03     0     1    14   164  2021   \n",
       "\n",
       "   month  day  I101  I102  I103  S101  S102  S103  \n",
       "0     10    3     2     1     1     1    17    10  \n",
       "1     10    3     2     1     1     1    17    10  \n",
       "2     10    3     2     1     1     1    17    10  \n",
       "3     10    3     2     1     1     1    17    10  \n",
       "4     10    3     2     1     1     1    17    10  "
      ]
     },
     "execution_count": 5,
     "metadata": {},
     "output_type": "execute_result"
    }
   ],
   "source": [
    "df_sales= preprocess(df_sales)\n",
    "df_submission =preprocess(df_submission)\n",
    "df_submission.head(5)"
   ]
  },
  {
   "cell_type": "markdown",
   "id": "2f40e67c",
   "metadata": {},
   "source": [
    "## Divide dataset"
   ]
  },
  {
   "cell_type": "markdown",
   "id": "7a6cd29b",
   "metadata": {},
   "source": [
    "### Divide X and Y"
   ]
  },
  {
   "cell_type": "code",
   "execution_count": 6,
   "id": "6b0472fc",
   "metadata": {
    "scrolled": true
   },
   "outputs": [],
   "source": [
    "features_names =['S100', 'I100', 'C100', 'C101', 'month', 'year', 'day', 'I101', 'I102', 'I103', 'S101', 'S102', 'S103']\n",
    "features_names_qtt =['QTT', 'S100', 'I100', 'C100', 'C101', 'month', 'year', 'day', 'I101', 'I102', 'I103', 'S101', 'S102', 'S103']\n",
    "X_lstm=df_sales[features_names_qtt]\n",
    "#Training\n",
    "X = df_sales[features_names]\n",
    "Y = df_sales['QTT']\n",
    "\n",
    "#Submission\n",
    "x_sub= df_submission[features_names]\n",
    "y_sub=df_submission['QTT']"
   ]
  },
  {
   "cell_type": "code",
   "execution_count": 7,
   "id": "70cf1821",
   "metadata": {},
   "outputs": [],
   "source": [
    "#Scale train data \n",
    "from sklearn.preprocessing import MinMaxScaler\n",
    "\n",
    "scaler=MinMaxScaler()\n",
    "data_scaled= scaler.fit_transform(X_lstm)\n",
    "features = data_scaled\n",
    "Y_scaled = data_scaled[:,0]"
   ]
  },
  {
   "cell_type": "code",
   "execution_count": 8,
   "id": "5ce1ce28",
   "metadata": {},
   "outputs": [
    {
     "data": {
      "text/plain": [
       "(2749369,)"
      ]
     },
     "execution_count": 8,
     "metadata": {},
     "output_type": "execute_result"
    }
   ],
   "source": [
    "Y_scaled.shape"
   ]
  },
  {
   "cell_type": "code",
   "execution_count": 9,
   "id": "b3d5fcb4",
   "metadata": {},
   "outputs": [],
   "source": [
    "#Scale submission Data\n",
    "submission_scaled= scaler.fit_transform(x_sub)\n",
    "sub_features = submission_scaled\n",
    "y_sub = submission_scaled[:,0]"
   ]
  },
  {
   "cell_type": "markdown",
   "id": "6555fed8",
   "metadata": {},
   "source": [
    "### For LGBM"
   ]
  },
  {
   "cell_type": "code",
   "execution_count": 10,
   "id": "06e87a53",
   "metadata": {},
   "outputs": [],
   "source": [
    "from sklearn.model_selection import TimeSeriesSplit\n",
    "\n",
    "x_train, x_test, y_train,y_test = train_test_split(X,Y, test_size=0.2, random_state=42)  \n",
    "X_validation, X_test, y_validation, y_test=train_test_split(x_test, y_test, test_size=0.5, random_state=42)"
   ]
  },
  {
   "cell_type": "markdown",
   "id": "db2a9e8e",
   "metadata": {},
   "source": [
    "### For LSTM"
   ]
  },
  {
   "cell_type": "code",
   "execution_count": 11,
   "id": "66d9188f",
   "metadata": {},
   "outputs": [],
   "source": [
    "sequence_len = 32\n",
    "batch_size= 64\n",
    "features_len = 14\n",
    "\n",
    "X_train, X_test, y_train, y_test = train_test_split(features, Y_scaled, test_size=0.2, random_state=42)  \n",
    "X_valid= sub_features\n",
    "y_valid=y_sub\n",
    "\n",
    "train_generator = TimeseriesGenerator(X_train, y_train, length=sequence_len, batch_size=batch_size)\n",
    "test_generator= TimeseriesGenerator(X_test, y_test, length=sequence_len, batch_size=batch_size)\n",
    "valid_generator= TimeseriesGenerator(X_valid, y_valid, length=sequence_len, batch_size=batch_size)"
   ]
  },
  {
   "cell_type": "markdown",
   "id": "56a52e71",
   "metadata": {},
   "source": [
    "# LGBM"
   ]
  },
  {
   "cell_type": "code",
   "execution_count": null,
   "id": "83bb3ad6",
   "metadata": {},
   "outputs": [],
   "source": [
    "hyper_params = {\n",
    "    'task': 'train',\n",
    "    'boosting_type': 'gbdt',\n",
    "    'objective': 'regression',\n",
    "    'metric': ['rmse'],\n",
    "    'learning_rate': 0.1,\n",
    "    'feature_fraction': 0.9,\n",
    "    'bagging_fraction': 0.7,\n",
    "    'bagging_freq': 10,\n",
    "    \"max_depth\": 8,\n",
    "    \"num_leaves\": 64,  \n",
    "    \"max_bin\": 512,\n",
    "    \"num_iterations\": 100\n",
    "}"
   ]
  },
  {
   "cell_type": "code",
   "execution_count": null,
   "id": "37a873f9",
   "metadata": {},
   "outputs": [],
   "source": [
    "gbm = lgb.LGBMRegressor(**hyper_params)"
   ]
  },
  {
   "cell_type": "code",
   "execution_count": null,
   "id": "12a594d3",
   "metadata": {},
   "outputs": [],
   "source": [
    "gbm.fit(x_train, y_train, eval_set=[(X_validation, y_validation)], setval_metric='rmse', early_stopping_rounds=30, verbose=50)"
   ]
  },
  {
   "cell_type": "markdown",
   "id": "a0586427",
   "metadata": {},
   "source": [
    "# LSTM"
   ]
  },
  {
   "cell_type": "code",
   "execution_count": 12,
   "id": "585c6414",
   "metadata": {},
   "outputs": [
    {
     "name": "stdout",
     "output_type": "stream",
     "text": [
      "34367\n",
      "batch x shape: (2749369, 14)\n",
      "batch y shape: (2749369,)\n",
      "(array([[[0.        , 0.2       , 0.21052632, ..., 1.        ,\n",
      "         0.47368421, 0.7       ],\n",
      "        [0.        , 1.        , 0.86315789, ..., 1.        ,\n",
      "         0.        , 1.        ],\n",
      "        [0.00144928, 0.7       , 0.52631579, ..., 1.        ,\n",
      "         0.57894737, 0.8       ],\n",
      "        ...,\n",
      "        [0.        , 0.8       , 0.2       , ..., 1.        ,\n",
      "         0.68421053, 0.6       ],\n",
      "        [0.00144928, 0.46666667, 0.49473684, ..., 1.        ,\n",
      "         0.15789474, 0.2       ],\n",
      "        [0.        , 0.66666667, 0.11578947, ..., 1.        ,\n",
      "         0.78947368, 1.        ]],\n",
      "\n",
      "       [[0.        , 1.        , 0.86315789, ..., 1.        ,\n",
      "         0.        , 1.        ],\n",
      "        [0.00144928, 0.7       , 0.52631579, ..., 1.        ,\n",
      "         0.57894737, 0.8       ],\n",
      "        [0.        , 0.66666667, 0.18947368, ..., 1.        ,\n",
      "         0.78947368, 1.        ],\n",
      "        ...,\n",
      "        [0.00144928, 0.46666667, 0.49473684, ..., 1.        ,\n",
      "         0.15789474, 0.2       ],\n",
      "        [0.        , 0.66666667, 0.11578947, ..., 1.        ,\n",
      "         0.78947368, 1.        ],\n",
      "        [0.        , 0.86666667, 0.90526316, ..., 1.        ,\n",
      "         0.94736842, 1.        ]],\n",
      "\n",
      "       [[0.00144928, 0.7       , 0.52631579, ..., 1.        ,\n",
      "         0.57894737, 0.8       ],\n",
      "        [0.        , 0.66666667, 0.18947368, ..., 1.        ,\n",
      "         0.78947368, 1.        ],\n",
      "        [0.        , 0.96666667, 0.06315789, ..., 1.        ,\n",
      "         0.68421053, 0.6       ],\n",
      "        ...,\n",
      "        [0.        , 0.66666667, 0.11578947, ..., 1.        ,\n",
      "         0.78947368, 1.        ],\n",
      "        [0.        , 0.86666667, 0.90526316, ..., 1.        ,\n",
      "         0.94736842, 1.        ],\n",
      "        [0.        , 0.26666667, 0.17894737, ..., 1.        ,\n",
      "         0.31578947, 0.7       ]],\n",
      "\n",
      "       ...,\n",
      "\n",
      "       [[0.00434783, 0.56666667, 0.8       , ..., 1.        ,\n",
      "         0.73684211, 1.        ],\n",
      "        [0.0057971 , 0.33333333, 0.81052632, ..., 1.        ,\n",
      "         0.94736842, 1.        ],\n",
      "        [0.        , 0.96666667, 0.78947368, ..., 1.        ,\n",
      "         0.68421053, 0.6       ],\n",
      "        ...,\n",
      "        [0.00144928, 0.26666667, 0.2       , ..., 1.        ,\n",
      "         0.31578947, 0.7       ],\n",
      "        [0.        , 0.63333333, 0.46315789, ..., 1.        ,\n",
      "         0.52631579, 0.        ],\n",
      "        [0.        , 0.56666667, 0.8       , ..., 1.        ,\n",
      "         0.73684211, 1.        ]],\n",
      "\n",
      "       [[0.0057971 , 0.33333333, 0.81052632, ..., 1.        ,\n",
      "         0.94736842, 1.        ],\n",
      "        [0.        , 0.96666667, 0.78947368, ..., 1.        ,\n",
      "         0.68421053, 0.6       ],\n",
      "        [0.00724638, 0.6       , 0.53684211, ..., 1.        ,\n",
      "         0.36842105, 0.1       ],\n",
      "        ...,\n",
      "        [0.        , 0.63333333, 0.46315789, ..., 1.        ,\n",
      "         0.52631579, 0.        ],\n",
      "        [0.        , 0.56666667, 0.8       , ..., 1.        ,\n",
      "         0.73684211, 1.        ],\n",
      "        [0.00289855, 0.83333333, 0.11578947, ..., 1.        ,\n",
      "         0.10526316, 0.5       ]],\n",
      "\n",
      "       [[0.        , 0.96666667, 0.78947368, ..., 1.        ,\n",
      "         0.68421053, 0.6       ],\n",
      "        [0.00724638, 0.6       , 0.53684211, ..., 1.        ,\n",
      "         0.36842105, 0.1       ],\n",
      "        [0.        , 0.86666667, 0.58947368, ..., 1.        ,\n",
      "         0.94736842, 1.        ],\n",
      "        ...,\n",
      "        [0.        , 0.56666667, 0.8       , ..., 1.        ,\n",
      "         0.73684211, 1.        ],\n",
      "        [0.00289855, 0.83333333, 0.11578947, ..., 1.        ,\n",
      "         0.10526316, 0.5       ],\n",
      "        [0.        , 0.93333333, 0.06315789, ..., 1.        ,\n",
      "         1.        , 0.4       ]]]), array([0.        , 0.        , 0.        , 0.00144928, 0.00144928,\n",
      "       0.        , 0.        , 0.00144928, 0.00289855, 0.        ,\n",
      "       0.        , 0.00289855, 0.        , 0.        , 0.00724638,\n",
      "       0.        , 0.00289855, 0.        , 0.00144928, 0.        ,\n",
      "       0.00144928, 0.        , 0.        , 0.00144928, 0.        ,\n",
      "       0.00144928, 0.        , 0.00869565, 0.00144928, 0.00434783,\n",
      "       0.0057971 , 0.        , 0.00724638, 0.        , 0.        ,\n",
      "       0.        , 0.00434783, 0.        , 0.00144928, 0.01304348,\n",
      "       0.00434783, 0.00144928, 0.        , 0.04492754, 0.        ,\n",
      "       0.00144928, 0.00289855, 0.00144928, 0.        , 0.03333333,\n",
      "       0.        , 0.00144928, 0.00144928, 0.        , 0.00144928,\n",
      "       0.00289855, 0.        , 0.00144928, 0.00144928, 0.        ,\n",
      "       0.        , 0.00289855, 0.        , 0.00289855]))\n"
     ]
    }
   ],
   "source": [
    "features, Y_scaled =train_generator[0]\n",
    "\n",
    "print(len(train_generator))\n",
    "print(\"batch x shape:\", X_lstm.shape)\n",
    "print('batch y shape:', Y.shape)\n",
    "print(train_generator[0])"
   ]
  },
  {
   "cell_type": "code",
   "execution_count": 13,
   "id": "30172ff4",
   "metadata": {},
   "outputs": [
    {
     "name": "stderr",
     "output_type": "stream",
     "text": [
      "2022-12-20 18:09:39.890282: I tensorflow/core/platform/cpu_feature_guard.cc:193] This TensorFlow binary is optimized with oneAPI Deep Neural Network Library (oneDNN) to use the following CPU instructions in performance-critical operations:  SSE4.1 SSE4.2\n",
      "To enable them in other operations, rebuild TensorFlow with the appropriate compiler flags.\n"
     ]
    },
    {
     "name": "stdout",
     "output_type": "stream",
     "text": [
      "Model: \"sequential\"\n",
      "_________________________________________________________________\n",
      " Layer (type)                Output Shape              Param #   \n",
      "=================================================================\n",
      " lstm (LSTM)                 (None, 32, 32)            6016      \n",
      "                                                                 \n",
      " leaky_re_lu (LeakyReLU)     (None, 32, 32)            0         \n",
      "                                                                 \n",
      " lstm_1 (LSTM)               (None, 32, 32)            8320      \n",
      "                                                                 \n",
      " leaky_re_lu_1 (LeakyReLU)   (None, 32, 32)            0         \n",
      "                                                                 \n",
      " dropout (Dropout)           (None, 32, 32)            0         \n",
      "                                                                 \n",
      " lstm_2 (LSTM)               (None, 32)                8320      \n",
      "                                                                 \n",
      " dropout_1 (Dropout)         (None, 32)                0         \n",
      "                                                                 \n",
      " dense (Dense)               (None, 1)                 33        \n",
      "                                                                 \n",
      "=================================================================\n",
      "Total params: 22,689\n",
      "Trainable params: 22,689\n",
      "Non-trainable params: 0\n",
      "_________________________________________________________________\n"
     ]
    }
   ],
   "source": [
    "model = keras.models.Sequential()\n",
    "model.add(keras.layers.LSTM(32, input_shape=(sequence_len, features_len), return_sequences=True))\n",
    "model.add(tf.keras.layers.LeakyReLU(alpha=0.5))\n",
    "model.add(keras.layers.LSTM(32, return_sequences=True))\n",
    "model.add(tf.keras.layers.LeakyReLU(alpha=0.5))\n",
    "model.add(tf.keras.layers.Dropout(0.5))\n",
    "model.add(keras.layers.LSTM(32, return_sequences=False))\n",
    "model.add(tf.keras.layers.Dropout(0.5))\n",
    "model.add(keras.layers.Dense(1))\n",
    "\n",
    "model.summary()"
   ]
  },
  {
   "cell_type": "code",
   "execution_count": 14,
   "id": "4c83e66f",
   "metadata": {},
   "outputs": [],
   "source": [
    "early_stopping = tf.keras.callbacks.EarlyStopping(monitor='val_loss',\n",
    "                                                    patience=2,\n",
    "                                                    mode='min')\n",
    "\n",
    "model.compile(loss=tf.losses.MeanSquaredError(),\n",
    "              optimizer=tf.optimizers.Adam(),\n",
    "              metrics=[tf.metrics.MeanAbsoluteError()])\n"
   ]
  },
  {
   "cell_type": "markdown",
   "id": "906aa225",
   "metadata": {},
   "source": [
    "Simply to long to train - that's why the error"
   ]
  },
  {
   "cell_type": "code",
   "execution_count": 15,
   "id": "89b7e83e",
   "metadata": {
    "scrolled": true
   },
   "outputs": [
    {
     "name": "stdout",
     "output_type": "stream",
     "text": [
      "Epoch 1/3\n"
     ]
    },
    {
     "name": "stderr",
     "output_type": "stream",
     "text": [
      "/var/folders/zx/_8wgnq2s1vg17f0_9lwx4swh0000gn/T/ipykernel_1427/3061854500.py:1: UserWarning: `Model.fit_generator` is deprecated and will be removed in a future version. Please use `Model.fit`, which supports generators.\n",
      "  history = model.fit_generator(train_generator, epochs=3,\n"
     ]
    },
    {
     "name": "stdout",
     "output_type": "stream",
     "text": [
      "34367/34367 [==============================] - 3047s 89ms/step - loss: 2.5498e-05 - mean_absolute_error: 0.0026 - val_loss: 2.2149e-05 - val_mean_absolute_error: 0.0026\n",
      "Epoch 2/3\n",
      "34367/34367 [==============================] - 1071s 31ms/step - loss: 2.3149e-05 - mean_absolute_error: 0.0024 - val_loss: 2.2154e-05 - val_mean_absolute_error: 0.0026\n",
      "Epoch 3/3\n",
      "34367/34367 [==============================] - 949s 28ms/step - loss: 2.3145e-05 - mean_absolute_error: 0.0024 - val_loss: 2.2146e-05 - val_mean_absolute_error: 0.0026\n"
     ]
    }
   ],
   "source": [
    "history = model.fit_generator(train_generator, epochs=3,\n",
    "                    validation_data=test_generator,\n",
    "                    shuffle=False,\n",
    "                    callbacks=[early_stopping])"
   ]
  },
  {
   "cell_type": "code",
   "execution_count": 17,
   "id": "475d40c4",
   "metadata": {},
   "outputs": [
    {
     "name": "stderr",
     "output_type": "stream",
     "text": [
      "/var/folders/zx/_8wgnq2s1vg17f0_9lwx4swh0000gn/T/ipykernel_1427/748299794.py:1: UserWarning: `Model.evaluate_generator` is deprecated and will be removed in a future version. Please use `Model.evaluate`, which supports generators.\n",
      "  model.evaluate_generator(test_generator, verbose=0)\n"
     ]
    },
    {
     "data": {
      "text/plain": [
       "[2.2145539332996123e-05, 0.002582989865913987]"
      ]
     },
     "execution_count": 17,
     "metadata": {},
     "output_type": "execute_result"
    }
   ],
   "source": [
    "model.evaluate_generator(test_generator, verbose=0)  "
   ]
  },
  {
   "cell_type": "code",
   "execution_count": 18,
   "id": "0b1fa135",
   "metadata": {},
   "outputs": [
    {
     "name": "stderr",
     "output_type": "stream",
     "text": [
      "/var/folders/zx/_8wgnq2s1vg17f0_9lwx4swh0000gn/T/ipykernel_1427/839825740.py:2: UserWarning: `Model.predict_generator` is deprecated and will be removed in a future version. Please use `Model.predict`, which supports generators.\n",
      "  predictions_test=model.predict_generator(test_generator)\n"
     ]
    }
   ],
   "source": [
    "#Predict on test set\n",
    "predictions_test=model.predict_generator(test_generator)"
   ]
  },
  {
   "cell_type": "code",
   "execution_count": 22,
   "id": "ada4d2bc",
   "metadata": {},
   "outputs": [],
   "source": [
    "# Concat my pred with the actual \n",
    "df_pred = pd.concat([pd.DataFrame(predictions_test), pd.DataFrame(X_test[:,1:][sequence_len:])], axis=1)"
   ]
  },
  {
   "cell_type": "code",
   "execution_count": 23,
   "id": "088abf4b",
   "metadata": {},
   "outputs": [
    {
     "data": {
      "text/html": [
       "<div>\n",
       "<style scoped>\n",
       "    .dataframe tbody tr th:only-of-type {\n",
       "        vertical-align: middle;\n",
       "    }\n",
       "\n",
       "    .dataframe tbody tr th {\n",
       "        vertical-align: top;\n",
       "    }\n",
       "\n",
       "    .dataframe thead th {\n",
       "        text-align: right;\n",
       "    }\n",
       "</style>\n",
       "<table border=\"1\" class=\"dataframe\">\n",
       "  <thead>\n",
       "    <tr style=\"text-align: right;\">\n",
       "      <th></th>\n",
       "      <th>0</th>\n",
       "      <th>0</th>\n",
       "      <th>1</th>\n",
       "      <th>2</th>\n",
       "      <th>3</th>\n",
       "      <th>4</th>\n",
       "      <th>5</th>\n",
       "      <th>6</th>\n",
       "      <th>7</th>\n",
       "      <th>8</th>\n",
       "      <th>9</th>\n",
       "      <th>10</th>\n",
       "      <th>11</th>\n",
       "      <th>12</th>\n",
       "    </tr>\n",
       "  </thead>\n",
       "  <tbody>\n",
       "    <tr>\n",
       "      <th>0</th>\n",
       "      <td>0.002434</td>\n",
       "      <td>0.000000</td>\n",
       "      <td>0.494737</td>\n",
       "      <td>0.75</td>\n",
       "      <td>0.217514</td>\n",
       "      <td>0.636364</td>\n",
       "      <td>0.25</td>\n",
       "      <td>0.366667</td>\n",
       "      <td>0.0</td>\n",
       "      <td>0.5</td>\n",
       "      <td>1.0</td>\n",
       "      <td>1.0</td>\n",
       "      <td>0.894737</td>\n",
       "      <td>1.0</td>\n",
       "    </tr>\n",
       "    <tr>\n",
       "      <th>1</th>\n",
       "      <td>0.002434</td>\n",
       "      <td>0.600000</td>\n",
       "      <td>0.705263</td>\n",
       "      <td>0.75</td>\n",
       "      <td>0.830508</td>\n",
       "      <td>0.636364</td>\n",
       "      <td>0.25</td>\n",
       "      <td>0.366667</td>\n",
       "      <td>1.0</td>\n",
       "      <td>1.0</td>\n",
       "      <td>1.0</td>\n",
       "      <td>1.0</td>\n",
       "      <td>0.368421</td>\n",
       "      <td>0.1</td>\n",
       "    </tr>\n",
       "    <tr>\n",
       "      <th>2</th>\n",
       "      <td>0.002433</td>\n",
       "      <td>0.966667</td>\n",
       "      <td>0.021053</td>\n",
       "      <td>0.65</td>\n",
       "      <td>0.042373</td>\n",
       "      <td>0.272727</td>\n",
       "      <td>0.00</td>\n",
       "      <td>0.966667</td>\n",
       "      <td>0.4</td>\n",
       "      <td>0.5</td>\n",
       "      <td>0.5</td>\n",
       "      <td>1.0</td>\n",
       "      <td>0.684211</td>\n",
       "      <td>0.6</td>\n",
       "    </tr>\n",
       "    <tr>\n",
       "      <th>3</th>\n",
       "      <td>0.002433</td>\n",
       "      <td>0.233333</td>\n",
       "      <td>0.368421</td>\n",
       "      <td>0.25</td>\n",
       "      <td>1.000000</td>\n",
       "      <td>0.909091</td>\n",
       "      <td>0.50</td>\n",
       "      <td>0.533333</td>\n",
       "      <td>0.0</td>\n",
       "      <td>0.5</td>\n",
       "      <td>0.5</td>\n",
       "      <td>1.0</td>\n",
       "      <td>0.210526</td>\n",
       "      <td>1.0</td>\n",
       "    </tr>\n",
       "    <tr>\n",
       "      <th>4</th>\n",
       "      <td>0.002433</td>\n",
       "      <td>0.366667</td>\n",
       "      <td>0.873684</td>\n",
       "      <td>0.65</td>\n",
       "      <td>0.810734</td>\n",
       "      <td>0.545455</td>\n",
       "      <td>0.50</td>\n",
       "      <td>0.666667</td>\n",
       "      <td>0.6</td>\n",
       "      <td>1.0</td>\n",
       "      <td>1.0</td>\n",
       "      <td>0.0</td>\n",
       "      <td>0.631579</td>\n",
       "      <td>0.9</td>\n",
       "    </tr>\n",
       "    <tr>\n",
       "      <th>...</th>\n",
       "      <td>...</td>\n",
       "      <td>...</td>\n",
       "      <td>...</td>\n",
       "      <td>...</td>\n",
       "      <td>...</td>\n",
       "      <td>...</td>\n",
       "      <td>...</td>\n",
       "      <td>...</td>\n",
       "      <td>...</td>\n",
       "      <td>...</td>\n",
       "      <td>...</td>\n",
       "      <td>...</td>\n",
       "      <td>...</td>\n",
       "      <td>...</td>\n",
       "    </tr>\n",
       "    <tr>\n",
       "      <th>549837</th>\n",
       "      <td>0.002433</td>\n",
       "      <td>0.933333</td>\n",
       "      <td>0.231579</td>\n",
       "      <td>0.65</td>\n",
       "      <td>1.000000</td>\n",
       "      <td>0.272727</td>\n",
       "      <td>1.00</td>\n",
       "      <td>0.333333</td>\n",
       "      <td>0.4</td>\n",
       "      <td>0.5</td>\n",
       "      <td>1.0</td>\n",
       "      <td>1.0</td>\n",
       "      <td>1.000000</td>\n",
       "      <td>0.4</td>\n",
       "    </tr>\n",
       "    <tr>\n",
       "      <th>549838</th>\n",
       "      <td>0.002433</td>\n",
       "      <td>0.433333</td>\n",
       "      <td>0.452632</td>\n",
       "      <td>0.20</td>\n",
       "      <td>0.214689</td>\n",
       "      <td>0.181818</td>\n",
       "      <td>0.25</td>\n",
       "      <td>0.333333</td>\n",
       "      <td>0.0</td>\n",
       "      <td>0.0</td>\n",
       "      <td>0.5</td>\n",
       "      <td>1.0</td>\n",
       "      <td>0.157895</td>\n",
       "      <td>0.2</td>\n",
       "    </tr>\n",
       "    <tr>\n",
       "      <th>549839</th>\n",
       "      <td>0.002433</td>\n",
       "      <td>0.600000</td>\n",
       "      <td>0.568421</td>\n",
       "      <td>0.70</td>\n",
       "      <td>1.000000</td>\n",
       "      <td>0.727273</td>\n",
       "      <td>0.00</td>\n",
       "      <td>0.300000</td>\n",
       "      <td>0.0</td>\n",
       "      <td>0.0</td>\n",
       "      <td>1.0</td>\n",
       "      <td>1.0</td>\n",
       "      <td>0.368421</td>\n",
       "      <td>0.1</td>\n",
       "    </tr>\n",
       "    <tr>\n",
       "      <th>549840</th>\n",
       "      <td>0.002433</td>\n",
       "      <td>0.566667</td>\n",
       "      <td>0.536842</td>\n",
       "      <td>0.70</td>\n",
       "      <td>0.217514</td>\n",
       "      <td>0.454545</td>\n",
       "      <td>0.25</td>\n",
       "      <td>0.300000</td>\n",
       "      <td>0.0</td>\n",
       "      <td>0.5</td>\n",
       "      <td>1.0</td>\n",
       "      <td>1.0</td>\n",
       "      <td>0.736842</td>\n",
       "      <td>1.0</td>\n",
       "    </tr>\n",
       "    <tr>\n",
       "      <th>549841</th>\n",
       "      <td>0.002433</td>\n",
       "      <td>0.000000</td>\n",
       "      <td>0.926316</td>\n",
       "      <td>0.60</td>\n",
       "      <td>0.214689</td>\n",
       "      <td>0.181818</td>\n",
       "      <td>0.75</td>\n",
       "      <td>0.000000</td>\n",
       "      <td>0.6</td>\n",
       "      <td>1.0</td>\n",
       "      <td>1.0</td>\n",
       "      <td>1.0</td>\n",
       "      <td>0.894737</td>\n",
       "      <td>1.0</td>\n",
       "    </tr>\n",
       "  </tbody>\n",
       "</table>\n",
       "<p>549842 rows × 14 columns</p>\n",
       "</div>"
      ],
      "text/plain": [
       "              0         0         1     2         3         4     5   \\\n",
       "0       0.002434  0.000000  0.494737  0.75  0.217514  0.636364  0.25   \n",
       "1       0.002434  0.600000  0.705263  0.75  0.830508  0.636364  0.25   \n",
       "2       0.002433  0.966667  0.021053  0.65  0.042373  0.272727  0.00   \n",
       "3       0.002433  0.233333  0.368421  0.25  1.000000  0.909091  0.50   \n",
       "4       0.002433  0.366667  0.873684  0.65  0.810734  0.545455  0.50   \n",
       "...          ...       ...       ...   ...       ...       ...   ...   \n",
       "549837  0.002433  0.933333  0.231579  0.65  1.000000  0.272727  1.00   \n",
       "549838  0.002433  0.433333  0.452632  0.20  0.214689  0.181818  0.25   \n",
       "549839  0.002433  0.600000  0.568421  0.70  1.000000  0.727273  0.00   \n",
       "549840  0.002433  0.566667  0.536842  0.70  0.217514  0.454545  0.25   \n",
       "549841  0.002433  0.000000  0.926316  0.60  0.214689  0.181818  0.75   \n",
       "\n",
       "              6    7    8    9    10        11   12  \n",
       "0       0.366667  0.0  0.5  1.0  1.0  0.894737  1.0  \n",
       "1       0.366667  1.0  1.0  1.0  1.0  0.368421  0.1  \n",
       "2       0.966667  0.4  0.5  0.5  1.0  0.684211  0.6  \n",
       "3       0.533333  0.0  0.5  0.5  1.0  0.210526  1.0  \n",
       "4       0.666667  0.6  1.0  1.0  0.0  0.631579  0.9  \n",
       "...          ...  ...  ...  ...  ...       ...  ...  \n",
       "549837  0.333333  0.4  0.5  1.0  1.0  1.000000  0.4  \n",
       "549838  0.333333  0.0  0.0  0.5  1.0  0.157895  0.2  \n",
       "549839  0.300000  0.0  0.0  1.0  1.0  0.368421  0.1  \n",
       "549840  0.300000  0.0  0.5  1.0  1.0  0.736842  1.0  \n",
       "549841  0.000000  0.6  1.0  1.0  1.0  0.894737  1.0  \n",
       "\n",
       "[549842 rows x 14 columns]"
      ]
     },
     "execution_count": 23,
     "metadata": {},
     "output_type": "execute_result"
    }
   ],
   "source": [
    "df_pred"
   ]
  }
 ],
 "metadata": {
  "kernelspec": {
   "display_name": "Python 3 (ipykernel)",
   "language": "python",
   "name": "python3"
  },
  "language_info": {
   "codemirror_mode": {
    "name": "ipython",
    "version": 3
   },
   "file_extension": ".py",
   "mimetype": "text/x-python",
   "name": "python",
   "nbconvert_exporter": "python",
   "pygments_lexer": "ipython3",
   "version": "3.9.15"
  }
 },
 "nbformat": 4,
 "nbformat_minor": 5
}
