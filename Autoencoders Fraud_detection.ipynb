{
 "cells": [
  {
   "cell_type": "markdown",
   "id": "43e3fa1f",
   "metadata": {},
   "source": [
    "# Week 1 Read the resources\n",
    "\n",
    "1. Understanding of the problem/ Research/Hypothesis \n",
    "2. Get the data/\n",
    "Where is it/\n",
    "Can you process it? \n",
    "\n",
    "https://www.kaggle.com/mlg-ulb/creditcardfraud"
   ]
  },
  {
   "cell_type": "markdown",
   "id": "aa98de38",
   "metadata": {},
   "source": [
    "### Import package"
   ]
  },
  {
   "cell_type": "code",
   "execution_count": 1,
   "id": "ca9c12ac",
   "metadata": {},
   "outputs": [],
   "source": [
    "import numpy as np \n",
    "import matplotlib.pyplot as plt \n",
    "import os \n",
    "import pandas as pd \n",
    "import seaborn as sns; sns.set()\n",
    "# Chart drawing\n",
    "import plotly as py\n",
    "import plotly.io as pio\n",
    "import plotly.graph_objects as go\n",
    "from plotly.subplots import make_subplots\n",
    "from plotly.offline import download_plotlyjs, init_notebook_mode, plot, iplot\n",
    "\n",
    "from sklearn.preprocessing import MinMaxScaler\n",
    "from sklearn.cluster import KMeans\n",
    "from sklearn.decomposition import PCA"
   ]
  },
  {
   "cell_type": "markdown",
   "id": "7adf3e4a",
   "metadata": {},
   "source": [
    "## 1. Data Extraction"
   ]
  },
  {
   "cell_type": "markdown",
   "id": "ae8126be",
   "metadata": {},
   "source": [
    "### Download and Prepare PHM08 dataset"
   ]
  },
  {
   "cell_type": "code",
   "execution_count": 2,
   "id": "a3244c4e",
   "metadata": {},
   "outputs": [
    {
     "data": {
      "text/html": [
       "<div>\n",
       "<style scoped>\n",
       "    .dataframe tbody tr th:only-of-type {\n",
       "        vertical-align: middle;\n",
       "    }\n",
       "\n",
       "    .dataframe tbody tr th {\n",
       "        vertical-align: top;\n",
       "    }\n",
       "\n",
       "    .dataframe thead th {\n",
       "        text-align: right;\n",
       "    }\n",
       "</style>\n",
       "<table border=\"1\" class=\"dataframe\">\n",
       "  <thead>\n",
       "    <tr style=\"text-align: right;\">\n",
       "      <th></th>\n",
       "      <th>Time</th>\n",
       "      <th>V1</th>\n",
       "      <th>V2</th>\n",
       "      <th>V3</th>\n",
       "      <th>V4</th>\n",
       "      <th>V5</th>\n",
       "      <th>V6</th>\n",
       "      <th>V7</th>\n",
       "      <th>V8</th>\n",
       "      <th>V9</th>\n",
       "      <th>...</th>\n",
       "      <th>V21</th>\n",
       "      <th>V22</th>\n",
       "      <th>V23</th>\n",
       "      <th>V24</th>\n",
       "      <th>V25</th>\n",
       "      <th>V26</th>\n",
       "      <th>V27</th>\n",
       "      <th>V28</th>\n",
       "      <th>Amount</th>\n",
       "      <th>Class</th>\n",
       "    </tr>\n",
       "  </thead>\n",
       "  <tbody>\n",
       "    <tr>\n",
       "      <th>0</th>\n",
       "      <td>0.0</td>\n",
       "      <td>-1.359807</td>\n",
       "      <td>-0.072781</td>\n",
       "      <td>2.536347</td>\n",
       "      <td>1.378155</td>\n",
       "      <td>-0.338321</td>\n",
       "      <td>0.462388</td>\n",
       "      <td>0.239599</td>\n",
       "      <td>0.098698</td>\n",
       "      <td>0.363787</td>\n",
       "      <td>...</td>\n",
       "      <td>-0.018307</td>\n",
       "      <td>0.277838</td>\n",
       "      <td>-0.110474</td>\n",
       "      <td>0.066928</td>\n",
       "      <td>0.128539</td>\n",
       "      <td>-0.189115</td>\n",
       "      <td>0.133558</td>\n",
       "      <td>-0.021053</td>\n",
       "      <td>149.62</td>\n",
       "      <td>0</td>\n",
       "    </tr>\n",
       "    <tr>\n",
       "      <th>1</th>\n",
       "      <td>0.0</td>\n",
       "      <td>1.191857</td>\n",
       "      <td>0.266151</td>\n",
       "      <td>0.166480</td>\n",
       "      <td>0.448154</td>\n",
       "      <td>0.060018</td>\n",
       "      <td>-0.082361</td>\n",
       "      <td>-0.078803</td>\n",
       "      <td>0.085102</td>\n",
       "      <td>-0.255425</td>\n",
       "      <td>...</td>\n",
       "      <td>-0.225775</td>\n",
       "      <td>-0.638672</td>\n",
       "      <td>0.101288</td>\n",
       "      <td>-0.339846</td>\n",
       "      <td>0.167170</td>\n",
       "      <td>0.125895</td>\n",
       "      <td>-0.008983</td>\n",
       "      <td>0.014724</td>\n",
       "      <td>2.69</td>\n",
       "      <td>0</td>\n",
       "    </tr>\n",
       "    <tr>\n",
       "      <th>2</th>\n",
       "      <td>1.0</td>\n",
       "      <td>-1.358354</td>\n",
       "      <td>-1.340163</td>\n",
       "      <td>1.773209</td>\n",
       "      <td>0.379780</td>\n",
       "      <td>-0.503198</td>\n",
       "      <td>1.800499</td>\n",
       "      <td>0.791461</td>\n",
       "      <td>0.247676</td>\n",
       "      <td>-1.514654</td>\n",
       "      <td>...</td>\n",
       "      <td>0.247998</td>\n",
       "      <td>0.771679</td>\n",
       "      <td>0.909412</td>\n",
       "      <td>-0.689281</td>\n",
       "      <td>-0.327642</td>\n",
       "      <td>-0.139097</td>\n",
       "      <td>-0.055353</td>\n",
       "      <td>-0.059752</td>\n",
       "      <td>378.66</td>\n",
       "      <td>0</td>\n",
       "    </tr>\n",
       "    <tr>\n",
       "      <th>3</th>\n",
       "      <td>1.0</td>\n",
       "      <td>-0.966272</td>\n",
       "      <td>-0.185226</td>\n",
       "      <td>1.792993</td>\n",
       "      <td>-0.863291</td>\n",
       "      <td>-0.010309</td>\n",
       "      <td>1.247203</td>\n",
       "      <td>0.237609</td>\n",
       "      <td>0.377436</td>\n",
       "      <td>-1.387024</td>\n",
       "      <td>...</td>\n",
       "      <td>-0.108300</td>\n",
       "      <td>0.005274</td>\n",
       "      <td>-0.190321</td>\n",
       "      <td>-1.175575</td>\n",
       "      <td>0.647376</td>\n",
       "      <td>-0.221929</td>\n",
       "      <td>0.062723</td>\n",
       "      <td>0.061458</td>\n",
       "      <td>123.50</td>\n",
       "      <td>0</td>\n",
       "    </tr>\n",
       "    <tr>\n",
       "      <th>4</th>\n",
       "      <td>2.0</td>\n",
       "      <td>-1.158233</td>\n",
       "      <td>0.877737</td>\n",
       "      <td>1.548718</td>\n",
       "      <td>0.403034</td>\n",
       "      <td>-0.407193</td>\n",
       "      <td>0.095921</td>\n",
       "      <td>0.592941</td>\n",
       "      <td>-0.270533</td>\n",
       "      <td>0.817739</td>\n",
       "      <td>...</td>\n",
       "      <td>-0.009431</td>\n",
       "      <td>0.798278</td>\n",
       "      <td>-0.137458</td>\n",
       "      <td>0.141267</td>\n",
       "      <td>-0.206010</td>\n",
       "      <td>0.502292</td>\n",
       "      <td>0.219422</td>\n",
       "      <td>0.215153</td>\n",
       "      <td>69.99</td>\n",
       "      <td>0</td>\n",
       "    </tr>\n",
       "  </tbody>\n",
       "</table>\n",
       "<p>5 rows × 31 columns</p>\n",
       "</div>"
      ],
      "text/plain": [
       "   Time        V1        V2        V3        V4        V5        V6        V7  \\\n",
       "0   0.0 -1.359807 -0.072781  2.536347  1.378155 -0.338321  0.462388  0.239599   \n",
       "1   0.0  1.191857  0.266151  0.166480  0.448154  0.060018 -0.082361 -0.078803   \n",
       "2   1.0 -1.358354 -1.340163  1.773209  0.379780 -0.503198  1.800499  0.791461   \n",
       "3   1.0 -0.966272 -0.185226  1.792993 -0.863291 -0.010309  1.247203  0.237609   \n",
       "4   2.0 -1.158233  0.877737  1.548718  0.403034 -0.407193  0.095921  0.592941   \n",
       "\n",
       "         V8        V9  ...       V21       V22       V23       V24       V25  \\\n",
       "0  0.098698  0.363787  ... -0.018307  0.277838 -0.110474  0.066928  0.128539   \n",
       "1  0.085102 -0.255425  ... -0.225775 -0.638672  0.101288 -0.339846  0.167170   \n",
       "2  0.247676 -1.514654  ...  0.247998  0.771679  0.909412 -0.689281 -0.327642   \n",
       "3  0.377436 -1.387024  ... -0.108300  0.005274 -0.190321 -1.175575  0.647376   \n",
       "4 -0.270533  0.817739  ... -0.009431  0.798278 -0.137458  0.141267 -0.206010   \n",
       "\n",
       "        V26       V27       V28  Amount  Class  \n",
       "0 -0.189115  0.133558 -0.021053  149.62      0  \n",
       "1  0.125895 -0.008983  0.014724    2.69      0  \n",
       "2 -0.139097 -0.055353 -0.059752  378.66      0  \n",
       "3 -0.221929  0.062723  0.061458  123.50      0  \n",
       "4  0.502292  0.219422  0.215153   69.99      0  \n",
       "\n",
       "[5 rows x 31 columns]"
      ]
     },
     "execution_count": 2,
     "metadata": {},
     "output_type": "execute_result"
    }
   ],
   "source": [
    "df=pd.read_csv('/Users/philippebeliveau/Desktop/BSTA 478/Projet/creditcard.csv')\n",
    "df.head(5)"
   ]
  },
  {
   "cell_type": "code",
   "execution_count": 3,
   "id": "0190e1d4",
   "metadata": {},
   "outputs": [],
   "source": [
    "# Divide data set between features and target\n",
    "features=df.drop(['Class'], axis=1)\n",
    "target = df['Class']"
   ]
  },
  {
   "cell_type": "code",
   "execution_count": 4,
   "id": "1a2fbf5e",
   "metadata": {},
   "outputs": [],
   "source": [
    "target_df=pd.DataFrame(target)"
   ]
  },
  {
   "cell_type": "markdown",
   "id": "48fffc45",
   "metadata": {},
   "source": [
    "Information about the dataset: \n",
    "\n",
    " The dataset is highly unbalanced, the positive class (frauds) account for 0.172% of all transactions.\n",
    "\n",
    "It contains only numerical input variables which are the result of a PCA transformation. Unfortunately, due to confidentiality issues, we cannot provide the original features and more background information about the data. Features V1, V2, … V28 are the principal components obtained with PCA, the only features which have not been transformed with PCA are 'Time' and 'Amount'. Feature 'Time' contains the seconds elapsed between each transaction and the first transaction in the dataset. The feature 'Amount' is the transaction Amount, this feature can be used for example-dependant cost-sensitive learning. Feature 'Class' is the response variable and it takes value 1 in case of fraud and 0 otherwise."
   ]
  },
  {
   "cell_type": "markdown",
   "id": "e9904dfc",
   "metadata": {},
   "source": [
    "What does the columns represent:\n",
    "\n",
    "PCA features\n",
    "This new array has the same number of rows and columns as the original sample array. In particular, there is one row for each transformed sample. The columns of the new array correspond to \"PCA features\", just as the original features corresponded to columns of the original array.\n",
    "\n",
    "PCA features are not correlated\n",
    "It is often the case that the features of a dataset are correlated. This is the case with many of the features of the wine dataset, for instance. However, PCA, due to the rotation it performs, \"de-correlates\" the data, in the sense that the columns of the transformed array are not linearly correlated.!\n",
    "\n",
    "So those columns are those PCA features"
   ]
  },
  {
   "cell_type": "markdown",
   "id": "eed1cbe5",
   "metadata": {},
   "source": [
    "# Week 2 Perform EDA\n",
    "2. Data cleaning: \n",
    "Define standards, drop columns, missing values, feature engineering \n",
    "    \n",
    "3. Data visualization  (EDA): Derived insight from the data and engine\n",
    "\n"
   ]
  },
  {
   "cell_type": "markdown",
   "id": "1fe62966",
   "metadata": {},
   "source": [
    "## 1. Data cleaning\n",
    "### 2.1 Define standards, drop columns, missing values, feature engineering "
   ]
  },
  {
   "cell_type": "code",
   "execution_count": 5,
   "id": "fba56489",
   "metadata": {
    "scrolled": true
   },
   "outputs": [
    {
     "data": {
      "text/html": [
       "<div>\n",
       "<style scoped>\n",
       "    .dataframe tbody tr th:only-of-type {\n",
       "        vertical-align: middle;\n",
       "    }\n",
       "\n",
       "    .dataframe tbody tr th {\n",
       "        vertical-align: top;\n",
       "    }\n",
       "\n",
       "    .dataframe thead th {\n",
       "        text-align: right;\n",
       "    }\n",
       "</style>\n",
       "<table border=\"1\" class=\"dataframe\">\n",
       "  <thead>\n",
       "    <tr style=\"text-align: right;\">\n",
       "      <th></th>\n",
       "      <th>count</th>\n",
       "      <th>mean</th>\n",
       "      <th>std</th>\n",
       "      <th>min</th>\n",
       "      <th>25%</th>\n",
       "      <th>50%</th>\n",
       "      <th>75%</th>\n",
       "      <th>max</th>\n",
       "    </tr>\n",
       "  </thead>\n",
       "  <tbody>\n",
       "    <tr>\n",
       "      <th>Time</th>\n",
       "      <td>284807.0</td>\n",
       "      <td>9.481386e+04</td>\n",
       "      <td>47488.145955</td>\n",
       "      <td>0.000000</td>\n",
       "      <td>54201.500000</td>\n",
       "      <td>84692.000000</td>\n",
       "      <td>139320.500000</td>\n",
       "      <td>172792.000000</td>\n",
       "    </tr>\n",
       "    <tr>\n",
       "      <th>V1</th>\n",
       "      <td>284807.0</td>\n",
       "      <td>3.918649e-15</td>\n",
       "      <td>1.958696</td>\n",
       "      <td>-56.407510</td>\n",
       "      <td>-0.920373</td>\n",
       "      <td>0.018109</td>\n",
       "      <td>1.315642</td>\n",
       "      <td>2.454930</td>\n",
       "    </tr>\n",
       "    <tr>\n",
       "      <th>V2</th>\n",
       "      <td>284807.0</td>\n",
       "      <td>5.682686e-16</td>\n",
       "      <td>1.651309</td>\n",
       "      <td>-72.715728</td>\n",
       "      <td>-0.598550</td>\n",
       "      <td>0.065486</td>\n",
       "      <td>0.803724</td>\n",
       "      <td>22.057729</td>\n",
       "    </tr>\n",
       "    <tr>\n",
       "      <th>V3</th>\n",
       "      <td>284807.0</td>\n",
       "      <td>-8.761736e-15</td>\n",
       "      <td>1.516255</td>\n",
       "      <td>-48.325589</td>\n",
       "      <td>-0.890365</td>\n",
       "      <td>0.179846</td>\n",
       "      <td>1.027196</td>\n",
       "      <td>9.382558</td>\n",
       "    </tr>\n",
       "    <tr>\n",
       "      <th>V4</th>\n",
       "      <td>284807.0</td>\n",
       "      <td>2.811118e-15</td>\n",
       "      <td>1.415869</td>\n",
       "      <td>-5.683171</td>\n",
       "      <td>-0.848640</td>\n",
       "      <td>-0.019847</td>\n",
       "      <td>0.743341</td>\n",
       "      <td>16.875344</td>\n",
       "    </tr>\n",
       "    <tr>\n",
       "      <th>V5</th>\n",
       "      <td>284807.0</td>\n",
       "      <td>-1.552103e-15</td>\n",
       "      <td>1.380247</td>\n",
       "      <td>-113.743307</td>\n",
       "      <td>-0.691597</td>\n",
       "      <td>-0.054336</td>\n",
       "      <td>0.611926</td>\n",
       "      <td>34.801666</td>\n",
       "    </tr>\n",
       "    <tr>\n",
       "      <th>V6</th>\n",
       "      <td>284807.0</td>\n",
       "      <td>2.040130e-15</td>\n",
       "      <td>1.332271</td>\n",
       "      <td>-26.160506</td>\n",
       "      <td>-0.768296</td>\n",
       "      <td>-0.274187</td>\n",
       "      <td>0.398565</td>\n",
       "      <td>73.301626</td>\n",
       "    </tr>\n",
       "    <tr>\n",
       "      <th>V7</th>\n",
       "      <td>284807.0</td>\n",
       "      <td>-1.698953e-15</td>\n",
       "      <td>1.237094</td>\n",
       "      <td>-43.557242</td>\n",
       "      <td>-0.554076</td>\n",
       "      <td>0.040103</td>\n",
       "      <td>0.570436</td>\n",
       "      <td>120.589494</td>\n",
       "    </tr>\n",
       "    <tr>\n",
       "      <th>V8</th>\n",
       "      <td>284807.0</td>\n",
       "      <td>-1.893285e-16</td>\n",
       "      <td>1.194353</td>\n",
       "      <td>-73.216718</td>\n",
       "      <td>-0.208630</td>\n",
       "      <td>0.022358</td>\n",
       "      <td>0.327346</td>\n",
       "      <td>20.007208</td>\n",
       "    </tr>\n",
       "    <tr>\n",
       "      <th>V9</th>\n",
       "      <td>284807.0</td>\n",
       "      <td>-3.147640e-15</td>\n",
       "      <td>1.098632</td>\n",
       "      <td>-13.434066</td>\n",
       "      <td>-0.643098</td>\n",
       "      <td>-0.051429</td>\n",
       "      <td>0.597139</td>\n",
       "      <td>15.594995</td>\n",
       "    </tr>\n",
       "    <tr>\n",
       "      <th>V10</th>\n",
       "      <td>284807.0</td>\n",
       "      <td>1.772925e-15</td>\n",
       "      <td>1.088850</td>\n",
       "      <td>-24.588262</td>\n",
       "      <td>-0.535426</td>\n",
       "      <td>-0.092917</td>\n",
       "      <td>0.453923</td>\n",
       "      <td>23.745136</td>\n",
       "    </tr>\n",
       "    <tr>\n",
       "      <th>V11</th>\n",
       "      <td>284807.0</td>\n",
       "      <td>9.289524e-16</td>\n",
       "      <td>1.020713</td>\n",
       "      <td>-4.797473</td>\n",
       "      <td>-0.762494</td>\n",
       "      <td>-0.032757</td>\n",
       "      <td>0.739593</td>\n",
       "      <td>12.018913</td>\n",
       "    </tr>\n",
       "    <tr>\n",
       "      <th>V12</th>\n",
       "      <td>284807.0</td>\n",
       "      <td>-1.803266e-15</td>\n",
       "      <td>0.999201</td>\n",
       "      <td>-18.683715</td>\n",
       "      <td>-0.405571</td>\n",
       "      <td>0.140033</td>\n",
       "      <td>0.618238</td>\n",
       "      <td>7.848392</td>\n",
       "    </tr>\n",
       "    <tr>\n",
       "      <th>V13</th>\n",
       "      <td>284807.0</td>\n",
       "      <td>1.674888e-15</td>\n",
       "      <td>0.995274</td>\n",
       "      <td>-5.791881</td>\n",
       "      <td>-0.648539</td>\n",
       "      <td>-0.013568</td>\n",
       "      <td>0.662505</td>\n",
       "      <td>7.126883</td>\n",
       "    </tr>\n",
       "    <tr>\n",
       "      <th>V14</th>\n",
       "      <td>284807.0</td>\n",
       "      <td>1.475621e-15</td>\n",
       "      <td>0.958596</td>\n",
       "      <td>-19.214325</td>\n",
       "      <td>-0.425574</td>\n",
       "      <td>0.050601</td>\n",
       "      <td>0.493150</td>\n",
       "      <td>10.526766</td>\n",
       "    </tr>\n",
       "    <tr>\n",
       "      <th>V15</th>\n",
       "      <td>284807.0</td>\n",
       "      <td>3.501098e-15</td>\n",
       "      <td>0.915316</td>\n",
       "      <td>-4.498945</td>\n",
       "      <td>-0.582884</td>\n",
       "      <td>0.048072</td>\n",
       "      <td>0.648821</td>\n",
       "      <td>8.877742</td>\n",
       "    </tr>\n",
       "    <tr>\n",
       "      <th>V16</th>\n",
       "      <td>284807.0</td>\n",
       "      <td>1.392460e-15</td>\n",
       "      <td>0.876253</td>\n",
       "      <td>-14.129855</td>\n",
       "      <td>-0.468037</td>\n",
       "      <td>0.066413</td>\n",
       "      <td>0.523296</td>\n",
       "      <td>17.315112</td>\n",
       "    </tr>\n",
       "    <tr>\n",
       "      <th>V17</th>\n",
       "      <td>284807.0</td>\n",
       "      <td>-7.466538e-16</td>\n",
       "      <td>0.849337</td>\n",
       "      <td>-25.162799</td>\n",
       "      <td>-0.483748</td>\n",
       "      <td>-0.065676</td>\n",
       "      <td>0.399675</td>\n",
       "      <td>9.253526</td>\n",
       "    </tr>\n",
       "    <tr>\n",
       "      <th>V18</th>\n",
       "      <td>284807.0</td>\n",
       "      <td>4.258754e-16</td>\n",
       "      <td>0.838176</td>\n",
       "      <td>-9.498746</td>\n",
       "      <td>-0.498850</td>\n",
       "      <td>-0.003636</td>\n",
       "      <td>0.500807</td>\n",
       "      <td>5.041069</td>\n",
       "    </tr>\n",
       "    <tr>\n",
       "      <th>V19</th>\n",
       "      <td>284807.0</td>\n",
       "      <td>9.019919e-16</td>\n",
       "      <td>0.814041</td>\n",
       "      <td>-7.213527</td>\n",
       "      <td>-0.456299</td>\n",
       "      <td>0.003735</td>\n",
       "      <td>0.458949</td>\n",
       "      <td>5.591971</td>\n",
       "    </tr>\n",
       "    <tr>\n",
       "      <th>V20</th>\n",
       "      <td>284807.0</td>\n",
       "      <td>5.126845e-16</td>\n",
       "      <td>0.770925</td>\n",
       "      <td>-54.497720</td>\n",
       "      <td>-0.211721</td>\n",
       "      <td>-0.062481</td>\n",
       "      <td>0.133041</td>\n",
       "      <td>39.420904</td>\n",
       "    </tr>\n",
       "    <tr>\n",
       "      <th>V21</th>\n",
       "      <td>284807.0</td>\n",
       "      <td>1.473120e-16</td>\n",
       "      <td>0.734524</td>\n",
       "      <td>-34.830382</td>\n",
       "      <td>-0.228395</td>\n",
       "      <td>-0.029450</td>\n",
       "      <td>0.186377</td>\n",
       "      <td>27.202839</td>\n",
       "    </tr>\n",
       "    <tr>\n",
       "      <th>V22</th>\n",
       "      <td>284807.0</td>\n",
       "      <td>8.042109e-16</td>\n",
       "      <td>0.725702</td>\n",
       "      <td>-10.933144</td>\n",
       "      <td>-0.542350</td>\n",
       "      <td>0.006782</td>\n",
       "      <td>0.528554</td>\n",
       "      <td>10.503090</td>\n",
       "    </tr>\n",
       "    <tr>\n",
       "      <th>V23</th>\n",
       "      <td>284807.0</td>\n",
       "      <td>5.282512e-16</td>\n",
       "      <td>0.624460</td>\n",
       "      <td>-44.807735</td>\n",
       "      <td>-0.161846</td>\n",
       "      <td>-0.011193</td>\n",
       "      <td>0.147642</td>\n",
       "      <td>22.528412</td>\n",
       "    </tr>\n",
       "    <tr>\n",
       "      <th>V24</th>\n",
       "      <td>284807.0</td>\n",
       "      <td>4.456271e-15</td>\n",
       "      <td>0.605647</td>\n",
       "      <td>-2.836627</td>\n",
       "      <td>-0.354586</td>\n",
       "      <td>0.040976</td>\n",
       "      <td>0.439527</td>\n",
       "      <td>4.584549</td>\n",
       "    </tr>\n",
       "    <tr>\n",
       "      <th>V25</th>\n",
       "      <td>284807.0</td>\n",
       "      <td>1.426896e-15</td>\n",
       "      <td>0.521278</td>\n",
       "      <td>-10.295397</td>\n",
       "      <td>-0.317145</td>\n",
       "      <td>0.016594</td>\n",
       "      <td>0.350716</td>\n",
       "      <td>7.519589</td>\n",
       "    </tr>\n",
       "    <tr>\n",
       "      <th>V26</th>\n",
       "      <td>284807.0</td>\n",
       "      <td>1.701640e-15</td>\n",
       "      <td>0.482227</td>\n",
       "      <td>-2.604551</td>\n",
       "      <td>-0.326984</td>\n",
       "      <td>-0.052139</td>\n",
       "      <td>0.240952</td>\n",
       "      <td>3.517346</td>\n",
       "    </tr>\n",
       "    <tr>\n",
       "      <th>V27</th>\n",
       "      <td>284807.0</td>\n",
       "      <td>-3.662252e-16</td>\n",
       "      <td>0.403632</td>\n",
       "      <td>-22.565679</td>\n",
       "      <td>-0.070840</td>\n",
       "      <td>0.001342</td>\n",
       "      <td>0.091045</td>\n",
       "      <td>31.612198</td>\n",
       "    </tr>\n",
       "    <tr>\n",
       "      <th>V28</th>\n",
       "      <td>284807.0</td>\n",
       "      <td>-1.217809e-16</td>\n",
       "      <td>0.330083</td>\n",
       "      <td>-15.430084</td>\n",
       "      <td>-0.052960</td>\n",
       "      <td>0.011244</td>\n",
       "      <td>0.078280</td>\n",
       "      <td>33.847808</td>\n",
       "    </tr>\n",
       "    <tr>\n",
       "      <th>Amount</th>\n",
       "      <td>284807.0</td>\n",
       "      <td>8.834962e+01</td>\n",
       "      <td>250.120109</td>\n",
       "      <td>0.000000</td>\n",
       "      <td>5.600000</td>\n",
       "      <td>22.000000</td>\n",
       "      <td>77.165000</td>\n",
       "      <td>25691.160000</td>\n",
       "    </tr>\n",
       "    <tr>\n",
       "      <th>Class</th>\n",
       "      <td>284807.0</td>\n",
       "      <td>1.727486e-03</td>\n",
       "      <td>0.041527</td>\n",
       "      <td>0.000000</td>\n",
       "      <td>0.000000</td>\n",
       "      <td>0.000000</td>\n",
       "      <td>0.000000</td>\n",
       "      <td>1.000000</td>\n",
       "    </tr>\n",
       "  </tbody>\n",
       "</table>\n",
       "</div>"
      ],
      "text/plain": [
       "           count          mean           std         min           25%  \\\n",
       "Time    284807.0  9.481386e+04  47488.145955    0.000000  54201.500000   \n",
       "V1      284807.0  3.918649e-15      1.958696  -56.407510     -0.920373   \n",
       "V2      284807.0  5.682686e-16      1.651309  -72.715728     -0.598550   \n",
       "V3      284807.0 -8.761736e-15      1.516255  -48.325589     -0.890365   \n",
       "V4      284807.0  2.811118e-15      1.415869   -5.683171     -0.848640   \n",
       "V5      284807.0 -1.552103e-15      1.380247 -113.743307     -0.691597   \n",
       "V6      284807.0  2.040130e-15      1.332271  -26.160506     -0.768296   \n",
       "V7      284807.0 -1.698953e-15      1.237094  -43.557242     -0.554076   \n",
       "V8      284807.0 -1.893285e-16      1.194353  -73.216718     -0.208630   \n",
       "V9      284807.0 -3.147640e-15      1.098632  -13.434066     -0.643098   \n",
       "V10     284807.0  1.772925e-15      1.088850  -24.588262     -0.535426   \n",
       "V11     284807.0  9.289524e-16      1.020713   -4.797473     -0.762494   \n",
       "V12     284807.0 -1.803266e-15      0.999201  -18.683715     -0.405571   \n",
       "V13     284807.0  1.674888e-15      0.995274   -5.791881     -0.648539   \n",
       "V14     284807.0  1.475621e-15      0.958596  -19.214325     -0.425574   \n",
       "V15     284807.0  3.501098e-15      0.915316   -4.498945     -0.582884   \n",
       "V16     284807.0  1.392460e-15      0.876253  -14.129855     -0.468037   \n",
       "V17     284807.0 -7.466538e-16      0.849337  -25.162799     -0.483748   \n",
       "V18     284807.0  4.258754e-16      0.838176   -9.498746     -0.498850   \n",
       "V19     284807.0  9.019919e-16      0.814041   -7.213527     -0.456299   \n",
       "V20     284807.0  5.126845e-16      0.770925  -54.497720     -0.211721   \n",
       "V21     284807.0  1.473120e-16      0.734524  -34.830382     -0.228395   \n",
       "V22     284807.0  8.042109e-16      0.725702  -10.933144     -0.542350   \n",
       "V23     284807.0  5.282512e-16      0.624460  -44.807735     -0.161846   \n",
       "V24     284807.0  4.456271e-15      0.605647   -2.836627     -0.354586   \n",
       "V25     284807.0  1.426896e-15      0.521278  -10.295397     -0.317145   \n",
       "V26     284807.0  1.701640e-15      0.482227   -2.604551     -0.326984   \n",
       "V27     284807.0 -3.662252e-16      0.403632  -22.565679     -0.070840   \n",
       "V28     284807.0 -1.217809e-16      0.330083  -15.430084     -0.052960   \n",
       "Amount  284807.0  8.834962e+01    250.120109    0.000000      5.600000   \n",
       "Class   284807.0  1.727486e-03      0.041527    0.000000      0.000000   \n",
       "\n",
       "                 50%            75%            max  \n",
       "Time    84692.000000  139320.500000  172792.000000  \n",
       "V1          0.018109       1.315642       2.454930  \n",
       "V2          0.065486       0.803724      22.057729  \n",
       "V3          0.179846       1.027196       9.382558  \n",
       "V4         -0.019847       0.743341      16.875344  \n",
       "V5         -0.054336       0.611926      34.801666  \n",
       "V6         -0.274187       0.398565      73.301626  \n",
       "V7          0.040103       0.570436     120.589494  \n",
       "V8          0.022358       0.327346      20.007208  \n",
       "V9         -0.051429       0.597139      15.594995  \n",
       "V10        -0.092917       0.453923      23.745136  \n",
       "V11        -0.032757       0.739593      12.018913  \n",
       "V12         0.140033       0.618238       7.848392  \n",
       "V13        -0.013568       0.662505       7.126883  \n",
       "V14         0.050601       0.493150      10.526766  \n",
       "V15         0.048072       0.648821       8.877742  \n",
       "V16         0.066413       0.523296      17.315112  \n",
       "V17        -0.065676       0.399675       9.253526  \n",
       "V18        -0.003636       0.500807       5.041069  \n",
       "V19         0.003735       0.458949       5.591971  \n",
       "V20        -0.062481       0.133041      39.420904  \n",
       "V21        -0.029450       0.186377      27.202839  \n",
       "V22         0.006782       0.528554      10.503090  \n",
       "V23        -0.011193       0.147642      22.528412  \n",
       "V24         0.040976       0.439527       4.584549  \n",
       "V25         0.016594       0.350716       7.519589  \n",
       "V26        -0.052139       0.240952       3.517346  \n",
       "V27         0.001342       0.091045      31.612198  \n",
       "V28         0.011244       0.078280      33.847808  \n",
       "Amount     22.000000      77.165000   25691.160000  \n",
       "Class       0.000000       0.000000       1.000000  "
      ]
     },
     "execution_count": 5,
     "metadata": {},
     "output_type": "execute_result"
    }
   ],
   "source": [
    "df.describe().transpose()"
   ]
  },
  {
   "cell_type": "code",
   "execution_count": 6,
   "id": "46ddf6d3",
   "metadata": {},
   "outputs": [
    {
     "name": "stdout",
     "output_type": "stream",
     "text": [
      "The dataframe has 284807 rows\n",
      "The dataframe has 31 columns\n"
     ]
    }
   ],
   "source": [
    "print('The dataframe has {} rows'.format(df.shape[0]))\n",
    "print('The dataframe has {} columns'.format(df.shape[1]))"
   ]
  },
  {
   "cell_type": "markdown",
   "id": "8e93c32d",
   "metadata": {},
   "source": [
    "### Missing Values?"
   ]
  },
  {
   "cell_type": "markdown",
   "id": "f278e90e",
   "metadata": {},
   "source": [
    "Make sure that our dataset does not possess any NaN values, and give some explanantion about what would this entails if we had some"
   ]
  },
  {
   "cell_type": "code",
   "execution_count": null,
   "id": "8cf403ac",
   "metadata": {},
   "outputs": [],
   "source": [
    "# Look for NA values\n",
    "df.isna().sum()"
   ]
  },
  {
   "cell_type": "markdown",
   "id": "5bd8af1e",
   "metadata": {},
   "source": [
    "After having clean missing value, we are now left with this DataFrame to perform our EDA "
   ]
  },
  {
   "cell_type": "markdown",
   "id": "8f8b7f3c",
   "metadata": {},
   "source": [
    "# Week 3 (19 – 5 march)  Perform the data preparation \n",
    "4. Data partitioning \n",
    "5. Data preparation \n",
    "6. Scaling\n",
    "6. Feature selection and creation \n",
    "4. Test of Stationarity for all features\n",
    "4. Lag values + AR + MA terms \n",
    "4. Multicollinearity\n",
    "\t\n"
   ]
  },
  {
   "cell_type": "markdown",
   "id": "169b0ae1",
   "metadata": {},
   "source": [
    "## 1. Data preprocessing "
   ]
  },
  {
   "cell_type": "markdown",
   "id": "344cca97",
   "metadata": {},
   "source": [
    "### Data partitioning"
   ]
  },
  {
   "cell_type": "markdown",
   "id": "52cc89cd",
   "metadata": {},
   "source": [
    "It is now important to drop the columnns that are insignificant or that are literaly giving the information about the Remaining useful life. Think about it, when a new engine is functioning, what information do we have about it, we can't have the max cycles that he reached, because he is still running.\n",
    "\n",
    "And, we can't give him our model the RUL, because this is what we are trying to predict"
   ]
  },
  {
   "cell_type": "markdown",
   "id": "fb36398b",
   "metadata": {},
   "source": [
    "### 2. Scaling"
   ]
  },
  {
   "cell_type": "markdown",
   "id": "a1c89a32",
   "metadata": {},
   "source": [
    "Question: \n",
    "\n",
    "Why scaling?"
   ]
  },
  {
   "cell_type": "code",
   "execution_count": 5,
   "id": "9454fb27",
   "metadata": {},
   "outputs": [
    {
     "name": "stderr",
     "output_type": "stream",
     "text": [
      "/Users/philippebeliveau/anaconda3/envs/TFT_Tensorflow/lib/python3.7/site-packages/ipykernel_launcher.py:1: DeprecationWarning:\n",
      "\n",
      "`np.float` is a deprecated alias for the builtin `float`. To silence this warning, use `float` by itself. Doing this will not modify any behavior and is safe. If you specifically wanted the numpy scalar type, use `np.float64` here.\n",
      "Deprecated in NumPy 1.20; for more details and guidance: https://numpy.org/devdocs/release/1.20.0-notes.html#deprecations\n",
      "\n"
     ]
    }
   ],
   "source": [
    "X = np.array(features).astype(np.float)\n",
    "\n",
    "scaler=MinMaxScaler()\n",
    "X_scaled=scaler.fit_transform(X)"
   ]
  },
  {
   "cell_type": "code",
   "execution_count": 6,
   "id": "25c6f91f",
   "metadata": {},
   "outputs": [],
   "source": [
    "X_scaled_df = pd.DataFrame(X_scaled)\n",
    "target_df = pd.DataFrame(target)"
   ]
  },
  {
   "cell_type": "markdown",
   "id": "d2cda1f7",
   "metadata": {},
   "source": [
    "## Week 4 (5 march – 19 march) Algorithm"
   ]
  },
  {
   "cell_type": "markdown",
   "id": "6ec51368",
   "metadata": {},
   "source": [
    "## Autoencoders\n",
    "\n",
    "https://towardsdatascience.com/applying-anomaly-detection-with-autoencoders-to-fraud-detection-feaaee6b5b09"
   ]
  },
  {
   "cell_type": "markdown",
   "id": "b48b8af3",
   "metadata": {},
   "source": [
    "The Autoencoder will encode our data into a subspace and decode the feature back while normalizing the data. Our expectation is autoencoder will learn the features of normal transactions and the input will be similar to output when applied. \n",
    "\n",
    "For anomalies, the input and the output will be significantly different since it is unexpected data.\n",
    "\n",
    "\n",
    "The good part of this approach is it allows us to use unsupervised learning and we usually have plenty of normal transaction data. Data labeling is usually expensive, hard, and in some cases unavailable. Manual data labeling also includes human interaction which causes human biased implementations. It can be seen that in the model training we only use normal transaction features and not the labels."
   ]
  },
  {
   "cell_type": "markdown",
   "id": "71a81292",
   "metadata": {},
   "source": [
    "## Why AE and what questions to ask\n",
    "\n",
    "What will be our input? \n",
    "\n",
    "What does represent our latent layer? \n",
    "\n",
    "What will represent our output? \n",
    "\n",
    "How to define the nodes? \n",
    "\n",
    "What is the idea of a threshold to detect anomalies? \n",
    "\n",
    "The idea behind the application of an autoencoders in the context of fraud prediction is that we will give as inputs the transactions, we hope to learn the features of the normal transactions in the encoder, we flatten the information in a flatten layer, making the latent space. Then, we hope that the decoder recreates the observations as normal transaction. Then when the decoder transform back the observations as if they were non-fraud observations. Given those reconstructed observations that are supposedly non-fraud observations, we can now see which observations have big loss function. Those will potentially be our fraud case. \n",
    "\n",
    "I believe autoencoders will be really useful for this task as we have very few fraud transactions, which gives the opportunity to the encoder in learning the normal transactions features and patterns. "
   ]
  },
  {
   "cell_type": "markdown",
   "id": "e396bdda",
   "metadata": {},
   "source": [
    "# Narrative\n",
    "\n",
    "We have to train our model on the normal transactions and give the anomaly to predict to the AE. Then, we will look at the prediction of the AE and see if there is a large disruption between the actual value \n",
    "and the predicted value. If there is a big difference, we might flag this transaction as an anomaly. \n",
    "\n"
   ]
  },
  {
   "cell_type": "code",
   "execution_count": 12,
   "id": "cfa3d3ea",
   "metadata": {
    "scrolled": false
   },
   "outputs": [
    {
     "name": "stderr",
     "output_type": "stream",
     "text": [
      "/Users/philippebeliveau/anaconda3/envs/TFT_Tensorflow/lib/python3.7/site-packages/ipykernel_launcher.py:4: DeprecationWarning:\n",
      "\n",
      "`np.float` is a deprecated alias for the builtin `float`. To silence this warning, use `float` by itself. Doing this will not modify any behavior and is safe. If you specifically wanted the numpy scalar type, use `np.float64` here.\n",
      "Deprecated in NumPy 1.20; for more details and guidance: https://numpy.org/devdocs/release/1.20.0-notes.html#deprecations\n",
      "\n"
     ]
    },
    {
     "name": "stdout",
     "output_type": "stream",
     "text": [
      "Shape of non_fraud (284315, 30)\n",
      "Shape of fraud (492, 30)\n"
     ]
    }
   ],
   "source": [
    "# So let's build the normal and anomaly data. \n",
    "\n",
    "# Dataframe\n",
    "y = np.array(target_df).astype(np.float)\n",
    "df_input = pd.concat([pd.DataFrame(X_scaled), pd.DataFrame({'Y_Fraud_N':y.flatten()})], axis=1)\n",
    "\n",
    "df_non_fraud= df_input[df_input['Y_Fraud_N']==0]\n",
    "df_fraud = df_input[df_input['Y_Fraud_N']==1]\n",
    "\n",
    "# Take off the Y_Fraud_N variable \n",
    "\n",
    "df_non_fraud = df_non_fraud.drop('Y_Fraud_N', axis=1)\n",
    "df_fraud = df_fraud.drop('Y_Fraud_N', axis=1)\n",
    "\n",
    "print('Shape of non_fraud {}'.format(df_non_fraud.shape))\n",
    "\n",
    "print('Shape of fraud {}'.format(df_fraud.shape))"
   ]
  },
  {
   "cell_type": "code",
   "execution_count": 13,
   "id": "86fa095c",
   "metadata": {},
   "outputs": [],
   "source": [
    "from sklearn.model_selection import train_test_split\n",
    "train_set, test_set = train_test_split(df_non_fraud, test_size=0.2)\n",
    "\n",
    "n_features= df_non_fraud.shape[1]"
   ]
  },
  {
   "cell_type": "markdown",
   "id": "f67ee855",
   "metadata": {},
   "source": [
    "### 2. Implementation of the algorithms "
   ]
  },
  {
   "cell_type": "code",
   "execution_count": 14,
   "id": "b5b7bf1e",
   "metadata": {},
   "outputs": [],
   "source": [
    "from mpl_toolkits.mplot3d import Axes3D\n",
    "from sklearn import datasets, decomposition, preprocessing, model_selection\n",
    "from keras import models, layers, activations, losses, optimizers, metrics\n",
    "from keras.callbacks import EarlyStopping\n",
    "import seaborn as sns\n",
    "import keras\n",
    "import tensorflow as tf"
   ]
  },
  {
   "cell_type": "markdown",
   "id": "baf23ae4",
   "metadata": {},
   "source": [
    "dataset_seed : Random seed for shuffling dataset\n",
    "\n",
    "scale : % of the dataset to use (1. for 100%)\n",
    "\n",
    "latent_dim : Dimension of the latent space\n",
    "\n",
    "train_prop : Percentage for train (the rest being for the test)\n",
    "\n",
    "batch_size : Batch sizeepochs : Nb of epochs for training\\\n",
    "\n",
    "fit_verbosity is the verbosity during training : 0 = silent, 1 = progress bar, 2 = one line per epoch"
   ]
  },
  {
   "cell_type": "code",
   "execution_count": 15,
   "id": "665000c4",
   "metadata": {},
   "outputs": [],
   "source": [
    "dataset_seed     = 123\n",
    "\n",
    "scale            = 1\n",
    "\n",
    "latent_dim       = 10\n",
    "\n",
    "train_prop       = .8\n",
    "batch_size       = 128\n",
    "epochs           = 30\n",
    "fit_verbosity    = 1"
   ]
  },
  {
   "cell_type": "markdown",
   "id": "e015dd58",
   "metadata": {},
   "source": [
    "## Encoder"
   ]
  },
  {
   "cell_type": "code",
   "execution_count": 16,
   "id": "ed30bc15",
   "metadata": {
    "scrolled": true
   },
   "outputs": [
    {
     "name": "stderr",
     "output_type": "stream",
     "text": [
      "2022-04-03 13:27:03.918200: I tensorflow/core/platform/cpu_feature_guard.cc:151] This TensorFlow binary is optimized with oneAPI Deep Neural Network Library (oneDNN) to use the following CPU instructions in performance-critical operations:  AVX2 FMA\n",
      "To enable them in other operations, rebuild TensorFlow with the appropriate compiler flags.\n"
     ]
    }
   ],
   "source": [
    "encoder = models.Sequential(name='encoder')\n",
    "encoder.add(layer=layers.Dense(units=30, activation=activations.relu, input_shape=[n_features]))\n",
    "encoder.add(layers.Dropout(0.1))\n",
    "encoder.add(layer=layers.Dense(units=15, activation=activations.relu))\n",
    "encoder.add(layer=layers.Dense(units=5, activation=activations.relu))"
   ]
  },
  {
   "cell_type": "markdown",
   "id": "5fdd545c",
   "metadata": {},
   "source": [
    "## Decoder"
   ]
  },
  {
   "cell_type": "code",
   "execution_count": 17,
   "id": "3213a580",
   "metadata": {},
   "outputs": [],
   "source": [
    "decoder = models.Sequential(name='decoder')\n",
    "decoder.add(layer=layers.Dense(units=15, activation=activations.relu, input_shape=[5]))\n",
    "decoder.add(layer=layers.Dense(units=30, activation=activations.relu))\n",
    "decoder.add(layers.Dropout(0.1))\n",
    "decoder.add(layer=layers.Dense(units=n_features, activation=activations.sigmoid))"
   ]
  },
  {
   "cell_type": "markdown",
   "id": "f9a49fdd",
   "metadata": {},
   "source": [
    "## Autoencoder"
   ]
  },
  {
   "cell_type": "code",
   "execution_count": 18,
   "id": "5affb872",
   "metadata": {},
   "outputs": [],
   "source": [
    "autoencoder = models.Sequential([encoder, decoder])\n",
    "\n",
    "autoencoder.compile(\n",
    "loss=losses.MSE,\n",
    "optimizer=tf.optimizers.SGD(),\n",
    "metrics=[metrics.mean_squared_error])"
   ]
  },
  {
   "cell_type": "code",
   "execution_count": 19,
   "id": "cfda2159",
   "metadata": {
    "scrolled": true
   },
   "outputs": [
    {
     "name": "stdout",
     "output_type": "stream",
     "text": [
      "Epoch 1/100\n",
      "WARNING:tensorflow:AutoGraph could not transform <function Model.make_train_function.<locals>.train_function at 0x7fd593bd1a70> and will run it as-is.\n",
      "Please report this to the TensorFlow team. When filing the bug, set the verbosity to 10 (on Linux, `export AUTOGRAPH_VERBOSITY=10`) and attach the full output.\n",
      "Cause: 'arguments' object has no attribute 'posonlyargs'\n",
      "To silence this warning, decorate the function with @tf.autograph.experimental.do_not_convert\n",
      "WARNING: AutoGraph could not transform <function Model.make_train_function.<locals>.train_function at 0x7fd593bd1a70> and will run it as-is.\n",
      "Please report this to the TensorFlow team. When filing the bug, set the verbosity to 10 (on Linux, `export AUTOGRAPH_VERBOSITY=10`) and attach the full output.\n",
      "Cause: 'arguments' object has no attribute 'posonlyargs'\n",
      "To silence this warning, decorate the function with @tf.autograph.experimental.do_not_convert\n",
      "7057/7108 [============================>.] - ETA: 0s - loss: 0.0226 - mean_squared_error: 0.0226WARNING:tensorflow:AutoGraph could not transform <function Model.make_test_function.<locals>.test_function at 0x7fd593472b00> and will run it as-is.\n",
      "Please report this to the TensorFlow team. When filing the bug, set the verbosity to 10 (on Linux, `export AUTOGRAPH_VERBOSITY=10`) and attach the full output.\n",
      "Cause: 'arguments' object has no attribute 'posonlyargs'\n",
      "To silence this warning, decorate the function with @tf.autograph.experimental.do_not_convert\n",
      "WARNING: AutoGraph could not transform <function Model.make_test_function.<locals>.test_function at 0x7fd593472b00> and will run it as-is.\n",
      "Please report this to the TensorFlow team. When filing the bug, set the verbosity to 10 (on Linux, `export AUTOGRAPH_VERBOSITY=10`) and attach the full output.\n",
      "Cause: 'arguments' object has no attribute 'posonlyargs'\n",
      "To silence this warning, decorate the function with @tf.autograph.experimental.do_not_convert\n",
      "7108/7108 [==============================] - 9s 1ms/step - loss: 0.0225 - mean_squared_error: 0.0225 - val_loss: 0.0055 - val_mean_squared_error: 0.0055\n",
      "Epoch 2/100\n",
      "7108/7108 [==============================] - 8s 1ms/step - loss: 0.0068 - mean_squared_error: 0.0068 - val_loss: 0.0044 - val_mean_squared_error: 0.0044\n",
      "Epoch 3/100\n",
      "7108/7108 [==============================] - 8s 1ms/step - loss: 0.0061 - mean_squared_error: 0.0061 - val_loss: 0.0043 - val_mean_squared_error: 0.0043\n",
      "Epoch 4/100\n",
      "7108/7108 [==============================] - 7s 999us/step - loss: 0.0058 - mean_squared_error: 0.0058 - val_loss: 0.0042 - val_mean_squared_error: 0.0042\n",
      "Epoch 5/100\n",
      "7108/7108 [==============================] - 7s 1ms/step - loss: 0.0056 - mean_squared_error: 0.0056 - val_loss: 0.0042 - val_mean_squared_error: 0.0042\n",
      "Epoch 6/100\n",
      "7108/7108 [==============================] - 8s 1ms/step - loss: 0.0054 - mean_squared_error: 0.0054 - val_loss: 0.0042 - val_mean_squared_error: 0.0042\n",
      "Epoch 7/100\n",
      "7108/7108 [==============================] - 8s 1ms/step - loss: 0.0053 - mean_squared_error: 0.0053 - val_loss: 0.0042 - val_mean_squared_error: 0.0042\n",
      "Epoch 8/100\n",
      "7108/7108 [==============================] - 8s 1ms/step - loss: 0.0052 - mean_squared_error: 0.0052 - val_loss: 0.0042 - val_mean_squared_error: 0.0042\n",
      "Epoch 9/100\n",
      "7108/7108 [==============================] - 9s 1ms/step - loss: 0.0051 - mean_squared_error: 0.0051 - val_loss: 0.0041 - val_mean_squared_error: 0.0041\n",
      "Epoch 10/100\n",
      "7108/7108 [==============================] - 9s 1ms/step - loss: 0.0051 - mean_squared_error: 0.0051 - val_loss: 0.0041 - val_mean_squared_error: 0.0041\n",
      "Epoch 11/100\n",
      "7108/7108 [==============================] - 8s 1ms/step - loss: 0.0050 - mean_squared_error: 0.0050 - val_loss: 0.0041 - val_mean_squared_error: 0.0041\n",
      "Epoch 12/100\n",
      "7108/7108 [==============================] - 8s 1ms/step - loss: 0.0049 - mean_squared_error: 0.0049 - val_loss: 0.0041 - val_mean_squared_error: 0.0041\n",
      "Epoch 13/100\n",
      "7108/7108 [==============================] - 8s 1ms/step - loss: 0.0049 - mean_squared_error: 0.0049 - val_loss: 0.0041 - val_mean_squared_error: 0.0041\n",
      "Epoch 14/100\n",
      "7108/7108 [==============================] - 8s 1ms/step - loss: 0.0049 - mean_squared_error: 0.0049 - val_loss: 0.0041 - val_mean_squared_error: 0.0041\n",
      "Epoch 15/100\n",
      "7108/7108 [==============================] - 8s 1ms/step - loss: 0.0048 - mean_squared_error: 0.0048 - val_loss: 0.0041 - val_mean_squared_error: 0.0041\n",
      "Epoch 16/100\n",
      "7108/7108 [==============================] - 8s 1ms/step - loss: 0.0048 - mean_squared_error: 0.0048 - val_loss: 0.0041 - val_mean_squared_error: 0.0041\n",
      "Epoch 17/100\n",
      "7108/7108 [==============================] - 8s 1ms/step - loss: 0.0048 - mean_squared_error: 0.0048 - val_loss: 0.0041 - val_mean_squared_error: 0.0041\n",
      "Epoch 18/100\n",
      "7108/7108 [==============================] - 8s 1ms/step - loss: 0.0047 - mean_squared_error: 0.0047 - val_loss: 0.0041 - val_mean_squared_error: 0.0041\n",
      "Epoch 19/100\n",
      "7108/7108 [==============================] - 9s 1ms/step - loss: 0.0047 - mean_squared_error: 0.0047 - val_loss: 0.0041 - val_mean_squared_error: 0.0041\n",
      "Epoch 20/100\n",
      "7108/7108 [==============================] - 8s 1ms/step - loss: 0.0047 - mean_squared_error: 0.0047 - val_loss: 0.0041 - val_mean_squared_error: 0.0041\n",
      "Epoch 21/100\n",
      "7108/7108 [==============================] - 8s 1ms/step - loss: 0.0047 - mean_squared_error: 0.0047 - val_loss: 0.0041 - val_mean_squared_error: 0.0041\n",
      "Epoch 22/100\n",
      "7108/7108 [==============================] - 8s 1ms/step - loss: 0.0046 - mean_squared_error: 0.0046 - val_loss: 0.0041 - val_mean_squared_error: 0.0041\n",
      "Epoch 23/100\n",
      "7108/7108 [==============================] - 7s 1ms/step - loss: 0.0046 - mean_squared_error: 0.0046 - val_loss: 0.0041 - val_mean_squared_error: 0.0041\n",
      "Epoch 24/100\n",
      "7108/7108 [==============================] - 7s 1ms/step - loss: 0.0046 - mean_squared_error: 0.0046 - val_loss: 0.0041 - val_mean_squared_error: 0.0041\n",
      "Epoch 25/100\n",
      "7108/7108 [==============================] - 8s 1ms/step - loss: 0.0046 - mean_squared_error: 0.0046 - val_loss: 0.0040 - val_mean_squared_error: 0.0040\n",
      "Epoch 26/100\n",
      "7108/7108 [==============================] - 8s 1ms/step - loss: 0.0046 - mean_squared_error: 0.0046 - val_loss: 0.0040 - val_mean_squared_error: 0.0040\n",
      "Epoch 27/100\n",
      "7108/7108 [==============================] - 8s 1ms/step - loss: 0.0045 - mean_squared_error: 0.0045 - val_loss: 0.0040 - val_mean_squared_error: 0.0040\n",
      "Epoch 28/100\n",
      "7108/7108 [==============================] - 7s 998us/step - loss: 0.0045 - mean_squared_error: 0.0045 - val_loss: 0.0040 - val_mean_squared_error: 0.0040\n",
      "Epoch 29/100\n",
      "7108/7108 [==============================] - 7s 962us/step - loss: 0.0045 - mean_squared_error: 0.0045 - val_loss: 0.0040 - val_mean_squared_error: 0.0040\n",
      "Epoch 30/100\n",
      "7108/7108 [==============================] - 7s 960us/step - loss: 0.0045 - mean_squared_error: 0.0045 - val_loss: 0.0040 - val_mean_squared_error: 0.0040\n",
      "Epoch 31/100\n",
      "7108/7108 [==============================] - 7s 946us/step - loss: 0.0045 - mean_squared_error: 0.0045 - val_loss: 0.0040 - val_mean_squared_error: 0.0040\n",
      "Epoch 32/100\n",
      "7108/7108 [==============================] - 7s 940us/step - loss: 0.0045 - mean_squared_error: 0.0045 - val_loss: 0.0040 - val_mean_squared_error: 0.0040\n",
      "Epoch 33/100\n",
      "7108/7108 [==============================] - 7s 956us/step - loss: 0.0044 - mean_squared_error: 0.0044 - val_loss: 0.0040 - val_mean_squared_error: 0.0040\n",
      "Epoch 34/100\n",
      "7108/7108 [==============================] - 8s 1ms/step - loss: 0.0044 - mean_squared_error: 0.0044 - val_loss: 0.0040 - val_mean_squared_error: 0.0040\n",
      "Epoch 35/100\n",
      "7108/7108 [==============================] - 10s 1ms/step - loss: 0.0044 - mean_squared_error: 0.0044 - val_loss: 0.0040 - val_mean_squared_error: 0.0040\n",
      "Epoch 36/100\n",
      "7108/7108 [==============================] - 7s 990us/step - loss: 0.0044 - mean_squared_error: 0.0044 - val_loss: 0.0039 - val_mean_squared_error: 0.0039\n",
      "Epoch 37/100\n",
      "7108/7108 [==============================] - 9s 1ms/step - loss: 0.0044 - mean_squared_error: 0.0044 - val_loss: 0.0039 - val_mean_squared_error: 0.0039\n",
      "Epoch 38/100\n",
      "7108/7108 [==============================] - 9s 1ms/step - loss: 0.0043 - mean_squared_error: 0.0043 - val_loss: 0.0039 - val_mean_squared_error: 0.0039\n"
     ]
    },
    {
     "name": "stdout",
     "output_type": "stream",
     "text": [
      "Epoch 39/100\n",
      "7108/7108 [==============================] - 7s 958us/step - loss: 0.0043 - mean_squared_error: 0.0043 - val_loss: 0.0039 - val_mean_squared_error: 0.0039\n",
      "Epoch 40/100\n",
      "7108/7108 [==============================] - 7s 958us/step - loss: 0.0043 - mean_squared_error: 0.0043 - val_loss: 0.0039 - val_mean_squared_error: 0.0039\n",
      "Epoch 41/100\n",
      "7108/7108 [==============================] - 7s 966us/step - loss: 0.0043 - mean_squared_error: 0.0043 - val_loss: 0.0039 - val_mean_squared_error: 0.0039\n",
      "Epoch 42/100\n",
      "7108/7108 [==============================] - 7s 936us/step - loss: 0.0042 - mean_squared_error: 0.0042 - val_loss: 0.0038 - val_mean_squared_error: 0.0038\n",
      "Epoch 43/100\n",
      "7108/7108 [==============================] - 7s 968us/step - loss: 0.0042 - mean_squared_error: 0.0042 - val_loss: 0.0038 - val_mean_squared_error: 0.0038\n",
      "Epoch 44/100\n",
      "7108/7108 [==============================] - 7s 1ms/step - loss: 0.0042 - mean_squared_error: 0.0042 - val_loss: 0.0038 - val_mean_squared_error: 0.0038\n",
      "Epoch 45/100\n",
      "7108/7108 [==============================] - 7s 952us/step - loss: 0.0041 - mean_squared_error: 0.0041 - val_loss: 0.0037 - val_mean_squared_error: 0.0037\n",
      "Epoch 46/100\n",
      "7108/7108 [==============================] - 7s 963us/step - loss: 0.0041 - mean_squared_error: 0.0041 - val_loss: 0.0037 - val_mean_squared_error: 0.0037\n",
      "Epoch 47/100\n",
      "7108/7108 [==============================] - 7s 1ms/step - loss: 0.0041 - mean_squared_error: 0.0041 - val_loss: 0.0037 - val_mean_squared_error: 0.0037\n",
      "Epoch 48/100\n",
      "7108/7108 [==============================] - 8s 1ms/step - loss: 0.0040 - mean_squared_error: 0.0040 - val_loss: 0.0036 - val_mean_squared_error: 0.0036\n",
      "Epoch 49/100\n",
      "7108/7108 [==============================] - 7s 953us/step - loss: 0.0040 - mean_squared_error: 0.0040 - val_loss: 0.0036 - val_mean_squared_error: 0.0036\n",
      "Epoch 50/100\n",
      "7108/7108 [==============================] - 7s 970us/step - loss: 0.0039 - mean_squared_error: 0.0039 - val_loss: 0.0035 - val_mean_squared_error: 0.0035\n",
      "Epoch 51/100\n",
      "7108/7108 [==============================] - 7s 964us/step - loss: 0.0039 - mean_squared_error: 0.0039 - val_loss: 0.0035 - val_mean_squared_error: 0.0035\n",
      "Epoch 52/100\n",
      "7108/7108 [==============================] - 7s 966us/step - loss: 0.0038 - mean_squared_error: 0.0038 - val_loss: 0.0034 - val_mean_squared_error: 0.0034\n",
      "Epoch 53/100\n",
      "7108/7108 [==============================] - 7s 983us/step - loss: 0.0038 - mean_squared_error: 0.0038 - val_loss: 0.0033 - val_mean_squared_error: 0.0033\n",
      "Epoch 54/100\n",
      "7108/7108 [==============================] - 7s 1ms/step - loss: 0.0037 - mean_squared_error: 0.0037 - val_loss: 0.0033 - val_mean_squared_error: 0.0033\n",
      "Epoch 55/100\n",
      "7108/7108 [==============================] - 7s 969us/step - loss: 0.0036 - mean_squared_error: 0.0036 - val_loss: 0.0032 - val_mean_squared_error: 0.0032\n",
      "Epoch 56/100\n",
      "7108/7108 [==============================] - 7s 985us/step - loss: 0.0035 - mean_squared_error: 0.0035 - val_loss: 0.0031 - val_mean_squared_error: 0.0031\n",
      "Epoch 57/100\n",
      "7108/7108 [==============================] - 7s 1ms/step - loss: 0.0034 - mean_squared_error: 0.0034 - val_loss: 0.0030 - val_mean_squared_error: 0.0030\n",
      "Epoch 58/100\n",
      "7108/7108 [==============================] - 7s 969us/step - loss: 0.0033 - mean_squared_error: 0.0033 - val_loss: 0.0029 - val_mean_squared_error: 0.0029\n",
      "Epoch 59/100\n",
      "7108/7108 [==============================] - 7s 949us/step - loss: 0.0032 - mean_squared_error: 0.0032 - val_loss: 0.0028 - val_mean_squared_error: 0.0028\n",
      "Epoch 60/100\n",
      "7108/7108 [==============================] - 7s 962us/step - loss: 0.0031 - mean_squared_error: 0.0031 - val_loss: 0.0027 - val_mean_squared_error: 0.0027\n",
      "Epoch 61/100\n",
      "7108/7108 [==============================] - 7s 1ms/step - loss: 0.0030 - mean_squared_error: 0.0030 - val_loss: 0.0026 - val_mean_squared_error: 0.0026\n",
      "Epoch 62/100\n",
      "7108/7108 [==============================] - 7s 958us/step - loss: 0.0029 - mean_squared_error: 0.0029 - val_loss: 0.0025 - val_mean_squared_error: 0.0025\n",
      "Epoch 63/100\n",
      "7108/7108 [==============================] - 7s 946us/step - loss: 0.0028 - mean_squared_error: 0.0028 - val_loss: 0.0024 - val_mean_squared_error: 0.0024\n",
      "Epoch 64/100\n",
      "7108/7108 [==============================] - 7s 970us/step - loss: 0.0027 - mean_squared_error: 0.0027 - val_loss: 0.0023 - val_mean_squared_error: 0.0023\n",
      "Epoch 65/100\n",
      "7108/7108 [==============================] - 7s 1ms/step - loss: 0.0027 - mean_squared_error: 0.0027 - val_loss: 0.0022 - val_mean_squared_error: 0.0022\n",
      "Epoch 66/100\n",
      "7108/7108 [==============================] - 7s 957us/step - loss: 0.0026 - mean_squared_error: 0.0026 - val_loss: 0.0021 - val_mean_squared_error: 0.0021\n",
      "Epoch 67/100\n",
      "7108/7108 [==============================] - 8s 1ms/step - loss: 0.0025 - mean_squared_error: 0.0025 - val_loss: 0.0020 - val_mean_squared_error: 0.0020\n",
      "Epoch 68/100\n",
      "7108/7108 [==============================] - 8s 1ms/step - loss: 0.0024 - mean_squared_error: 0.0024 - val_loss: 0.0020 - val_mean_squared_error: 0.0020\n",
      "Epoch 69/100\n",
      "7108/7108 [==============================] - 9s 1ms/step - loss: 0.0024 - mean_squared_error: 0.0024 - val_loss: 0.0019 - val_mean_squared_error: 0.0019\n",
      "Epoch 70/100\n",
      "7108/7108 [==============================] - 8s 1ms/step - loss: 0.0023 - mean_squared_error: 0.0023 - val_loss: 0.0019 - val_mean_squared_error: 0.0019\n",
      "Epoch 71/100\n",
      "7108/7108 [==============================] - 8s 1ms/step - loss: 0.0023 - mean_squared_error: 0.0023 - val_loss: 0.0019 - val_mean_squared_error: 0.0019\n",
      "Epoch 72/100\n",
      "7108/7108 [==============================] - 8s 1ms/step - loss: 0.0023 - mean_squared_error: 0.0023 - val_loss: 0.0018 - val_mean_squared_error: 0.0018\n",
      "Epoch 73/100\n",
      "7108/7108 [==============================] - 9s 1ms/step - loss: 0.0022 - mean_squared_error: 0.0022 - val_loss: 0.0018 - val_mean_squared_error: 0.0018\n",
      "Epoch 74/100\n",
      "7108/7108 [==============================] - 8s 1ms/step - loss: 0.0022 - mean_squared_error: 0.0022 - val_loss: 0.0018 - val_mean_squared_error: 0.0018\n",
      "Epoch 75/100\n",
      "7108/7108 [==============================] - 7s 1ms/step - loss: 0.0022 - mean_squared_error: 0.0022 - val_loss: 0.0018 - val_mean_squared_error: 0.0018\n",
      "Epoch 76/100\n",
      "7108/7108 [==============================] - 7s 1ms/step - loss: 0.0022 - mean_squared_error: 0.0022 - val_loss: 0.0018 - val_mean_squared_error: 0.0018\n",
      "Epoch 77/100\n",
      "7108/7108 [==============================] - 7s 937us/step - loss: 0.0021 - mean_squared_error: 0.0021 - val_loss: 0.0018 - val_mean_squared_error: 0.0018\n",
      "Epoch 78/100\n",
      "7108/7108 [==============================] - 7s 952us/step - loss: 0.0021 - mean_squared_error: 0.0021 - val_loss: 0.0017 - val_mean_squared_error: 0.0017\n",
      "Epoch 79/100\n",
      "7108/7108 [==============================] - 7s 947us/step - loss: 0.0021 - mean_squared_error: 0.0021 - val_loss: 0.0017 - val_mean_squared_error: 0.0017\n",
      "Epoch 80/100\n",
      "7108/7108 [==============================] - 8s 1ms/step - loss: 0.0021 - mean_squared_error: 0.0021 - val_loss: 0.0017 - val_mean_squared_error: 0.0017\n",
      "Epoch 81/100\n",
      "7108/7108 [==============================] - 8s 1ms/step - loss: 0.0021 - mean_squared_error: 0.0021 - val_loss: 0.0017 - val_mean_squared_error: 0.0017\n",
      "Epoch 82/100\n",
      "7108/7108 [==============================] - 8s 1ms/step - loss: 0.0021 - mean_squared_error: 0.0021 - val_loss: 0.0017 - val_mean_squared_error: 0.0017\n",
      "Epoch 83/100\n",
      "7108/7108 [==============================] - 8s 1ms/step - loss: 0.0021 - mean_squared_error: 0.0021 - val_loss: 0.0017 - val_mean_squared_error: 0.0017\n",
      "Epoch 84/100\n",
      "7108/7108 [==============================] - 9s 1ms/step - loss: 0.0021 - mean_squared_error: 0.0021 - val_loss: 0.0017 - val_mean_squared_error: 0.0017\n",
      "Epoch 85/100\n",
      "7108/7108 [==============================] - 8s 1ms/step - loss: 0.0021 - mean_squared_error: 0.0021 - val_loss: 0.0017 - val_mean_squared_error: 0.0017\n",
      "Epoch 86/100\n",
      "7108/7108 [==============================] - 8s 1ms/step - loss: 0.0021 - mean_squared_error: 0.0021 - val_loss: 0.0017 - val_mean_squared_error: 0.0017\n",
      "Epoch 87/100\n",
      "7108/7108 [==============================] - 7s 1ms/step - loss: 0.0021 - mean_squared_error: 0.0021 - val_loss: 0.0017 - val_mean_squared_error: 0.0017\n",
      "Epoch 88/100\n"
     ]
    },
    {
     "name": "stdout",
     "output_type": "stream",
     "text": [
      "7108/7108 [==============================] - 7s 966us/step - loss: 0.0021 - mean_squared_error: 0.0021 - val_loss: 0.0017 - val_mean_squared_error: 0.0017\n",
      "Epoch 89/100\n",
      "7108/7108 [==============================] - 7s 1ms/step - loss: 0.0021 - mean_squared_error: 0.0021 - val_loss: 0.0017 - val_mean_squared_error: 0.0017\n",
      "Epoch 90/100\n",
      "7108/7108 [==============================] - 7s 1ms/step - loss: 0.0020 - mean_squared_error: 0.0020 - val_loss: 0.0017 - val_mean_squared_error: 0.0017\n",
      "Epoch 91/100\n",
      "7108/7108 [==============================] - 7s 1ms/step - loss: 0.0020 - mean_squared_error: 0.0020 - val_loss: 0.0017 - val_mean_squared_error: 0.0017\n",
      "Epoch 92/100\n",
      "7108/7108 [==============================] - 7s 1ms/step - loss: 0.0020 - mean_squared_error: 0.0020 - val_loss: 0.0017 - val_mean_squared_error: 0.0017\n",
      "Epoch 93/100\n",
      "7108/7108 [==============================] - 7s 1ms/step - loss: 0.0020 - mean_squared_error: 0.0020 - val_loss: 0.0017 - val_mean_squared_error: 0.0017\n",
      "Epoch 94/100\n",
      "7108/7108 [==============================] - 7s 1ms/step - loss: 0.0020 - mean_squared_error: 0.0020 - val_loss: 0.0017 - val_mean_squared_error: 0.0017\n",
      "Epoch 95/100\n",
      "7108/7108 [==============================] - 7s 1ms/step - loss: 0.0020 - mean_squared_error: 0.0020 - val_loss: 0.0017 - val_mean_squared_error: 0.0017\n",
      "Epoch 96/100\n",
      "7108/7108 [==============================] - 7s 1ms/step - loss: 0.0020 - mean_squared_error: 0.0020 - val_loss: 0.0017 - val_mean_squared_error: 0.0017\n",
      "Epoch 97/100\n",
      "7108/7108 [==============================] - 7s 1ms/step - loss: 0.0020 - mean_squared_error: 0.0020 - val_loss: 0.0017 - val_mean_squared_error: 0.0017\n",
      "Epoch 98/100\n",
      "7108/7108 [==============================] - 7s 1ms/step - loss: 0.0020 - mean_squared_error: 0.0020 - val_loss: 0.0017 - val_mean_squared_error: 0.0017\n",
      "Epoch 99/100\n",
      "7108/7108 [==============================] - 7s 1ms/step - loss: 0.0020 - mean_squared_error: 0.0020 - val_loss: 0.0017 - val_mean_squared_error: 0.0017\n",
      "Epoch 100/100\n",
      "7108/7108 [==============================] - 7s 1ms/step - loss: 0.0020 - mean_squared_error: 0.0020 - val_loss: 0.0017 - val_mean_squared_error: 0.0017\n"
     ]
    },
    {
     "data": {
      "image/png": "[encoded data removed]",
      "text/plain": [
       "<Figure size 432x288 with 1 Axes>"
      ]
     },
     "metadata": {},
     "output_type": "display_data"
    }
   ],
   "source": [
    "# train model\n",
    "es = EarlyStopping(monitor='val_loss', min_delta=0.00001, patience=10, restore_best_weights=True)\n",
    "history = autoencoder.fit(x=train_set, y=train_set, epochs=100, verbose=1, validation_data=[test_set, test_set], callbacks=[es])\n",
    "plt.plot(history.history['loss'])\n",
    "plt.plot(history.history['val_loss'])\n",
    "plt.title('Model Loss')\n",
    "plt.ylabel('Loss')\n",
    "plt.xlabel('Epoch')\n",
    "plt.legend(['Train', 'Test'], loc='upper left')\n",
    "plt.show()"
   ]
  },
  {
   "cell_type": "markdown",
   "id": "8aa1e0af",
   "metadata": {},
   "source": [
    "### Prediction"
   ]
  },
  {
   "cell_type": "code",
   "execution_count": 20,
   "id": "72e59e2d",
   "metadata": {
    "scrolled": true
   },
   "outputs": [
    {
     "name": "stdout",
     "output_type": "stream",
     "text": [
      "WARNING:tensorflow:AutoGraph could not transform <function Model.make_predict_function.<locals>.predict_function at 0x7fd593a6c200> and will run it as-is.\n",
      "Please report this to the TensorFlow team. When filing the bug, set the verbosity to 10 (on Linux, `export AUTOGRAPH_VERBOSITY=10`) and attach the full output.\n",
      "Cause: 'arguments' object has no attribute 'posonlyargs'\n",
      "To silence this warning, decorate the function with @tf.autograph.experimental.do_not_convert\n",
      "WARNING: AutoGraph could not transform <function Model.make_predict_function.<locals>.predict_function at 0x7fd593a6c200> and will run it as-is.\n",
      "Please report this to the TensorFlow team. When filing the bug, set the verbosity to 10 (on Linux, `export AUTOGRAPH_VERBOSITY=10`) and attach the full output.\n",
      "Cause: 'arguments' object has no attribute 'posonlyargs'\n",
      "To silence this warning, decorate the function with @tf.autograph.experimental.do_not_convert\n"
     ]
    }
   ],
   "source": [
    "train_predicted_x = autoencoder.predict(x=train_set)\n",
    "train_events_mse = losses.mean_squared_error(train_set, train_predicted_x)\n",
    "cut_off = np.percentile(train_events_mse, 95)"
   ]
  },
  {
   "cell_type": "code",
   "execution_count": 25,
   "id": "5a8e0855",
   "metadata": {},
   "outputs": [],
   "source": [
    "plot_samples = 492\n",
    "# normal event\n",
    "real_x = test_set[:plot_samples].values.reshape(plot_samples, n_features)\n",
    "predicted_x = autoencoder.predict(x=real_x)\n",
    "normal_events_mse = losses.mean_squared_error(real_x, predicted_x)\n",
    "normal_events_df = pd.DataFrame({\n",
    "'mse': normal_events_mse,\n",
    "'n': np.arange(0, plot_samples),\n",
    "'anomaly': np.zeros(plot_samples)})"
   ]
  },
  {
   "cell_type": "code",
   "execution_count": 27,
   "id": "2e1e59f4",
   "metadata": {},
   "outputs": [],
   "source": [
    "# abnormal event\n",
    "abnormal_x =df_fraud[:plot_samples].values.reshape(plot_samples, n_features)\n",
    "predicted_x = autoencoder.predict(x=abnormal_x)\n",
    "abnormal_events_mse = losses.mean_squared_error(abnormal_x, predicted_x)\n",
    "abnormal_events_df = pd.DataFrame({\n",
    "'mse': abnormal_events_mse,\n",
    "'n': np.arange(0, plot_samples),\n",
    "'anomaly': np.ones(plot_samples)})"
   ]
  },
  {
   "cell_type": "code",
   "execution_count": 28,
   "id": "b84e4f4a",
   "metadata": {
    "scrolled": false
   },
   "outputs": [
    {
     "data": {
      "image/png": "[encoded data removed]",
      "text/plain": [
       "<Figure size 432x288 with 1 Axes>"
      ]
     },
     "metadata": {},
     "output_type": "display_data"
    }
   ],
   "source": [
    "import matplotlib.lines as lines\n",
    "mse_df = pd.concat([normal_events_df, abnormal_events_df])\n",
    "plot = sns.lineplot(x=mse_df.n, y=mse_df.mse, hue=mse_df.anomaly)\n",
    "\n",
    "line = lines.Line2D(\n",
    "xdata=np.arange(0, plot_samples),\n",
    "ydata=np.full(plot_samples, cut_off),\n",
    "color='#CC2B5E',\n",
    "linewidth=1.5,\n",
    "linestyle='dashed')\n",
    "\n",
    "plot.add_artist(line)\n",
    "plt.title('Threshlold: {threshold}'.format(threshold=cut_off))\n",
    "plt.show()"
   ]
  },
  {
   "cell_type": "markdown",
   "id": "7c6949ad",
   "metadata": {},
   "source": [
    "# Week 5 (19 march – 2 april) \n",
    "9. Model performance\n",
    "\n",
    "10. Performance measures (RMSE, MAE,…) \n",
    "    \n",
    "11. Feature importance\n",
    "\n",
    "12. Evaluation of the results (Overfitting )\n",
    "\t\n",
    "13. Interpretation of the results  \n",
    "\n"
   ]
  },
  {
   "cell_type": "markdown",
   "id": "fbc4a5b4",
   "metadata": {},
   "source": [
    "### 1. Performance measure\n",
    "\n",
    "RMSE \n",
    "MAE\n",
    "(...)"
   ]
  },
  {
   "cell_type": "code",
   "execution_count": 29,
   "id": "871e708e",
   "metadata": {},
   "outputs": [],
   "source": [
    "mse_abnormal = pd.DataFrame(abnormal_events_mse)"
   ]
  },
  {
   "cell_type": "code",
   "execution_count": 30,
   "id": "7fc13cf5",
   "metadata": {},
   "outputs": [],
   "source": [
    "good = []\n",
    "bad=[]\n",
    "def classify(mse, cutoff): \n",
    "    for row in mse_abnormal.itertuples(index=False):\n",
    "        if row >= cutoff:\n",
    "            count_good  =good.append(1)\n",
    "        else: \n",
    "            count_bad = bad.append(0)  "
   ]
  },
  {
   "cell_type": "code",
   "execution_count": 31,
   "id": "cf0d4455",
   "metadata": {},
   "outputs": [
    {
     "name": "stdout",
     "output_type": "stream",
     "text": [
      "The ratio of well classify abnormal transactions is:0.8414634146341463\n"
     ]
    }
   ],
   "source": [
    "classify(pd.DataFrame(abnormal_events_mse), cut_off)\n",
    "print('The ratio of well classify abnormal transactions is:{}'.format((len(good)/len(mse_abnormal))))"
   ]
  },
  {
   "cell_type": "markdown",
   "id": "1aa95a30",
   "metadata": {},
   "source": [
    "### 3. Evaluation of the results"
   ]
  },
  {
   "cell_type": "markdown",
   "id": "a4f5e5af",
   "metadata": {},
   "source": [
    "The ratio of well classify abnormal transactions is:84% "
   ]
  },
  {
   "cell_type": "markdown",
   "id": "c474b19b",
   "metadata": {},
   "source": [
    "### 4. Interpretation of the results"
   ]
  },
  {
   "cell_type": "markdown",
   "id": "28328ffe",
   "metadata": {},
   "source": [
    "When looking at the graph above, we see that the model have larger MSE in most of the case when he is predicting on non-normal transactions. Which is exactly what we wants, as the goal of the autoencoders is to recreate those datapoints into the original form (what he has learn in the training) "
   ]
  },
  {
   "cell_type": "markdown",
   "id": "9a3b4afd",
   "metadata": {},
   "source": [
    "# Week 6 (2 april – 10 april) \n",
    "10. Develop presentation\n",
    "\n",
    "11. Wrapping up\n"
   ]
  }
 ],
 "metadata": {
  "kernelspec": {
   "display_name": "Python 3 (ipykernel)",
   "language": "python",
   "name": "python3"
  },
  "language_info": {
   "codemirror_mode": {
    "name": "ipython",
    "version": 3
   },
   "file_extension": ".py",
   "mimetype": "text/x-python",
   "name": "python",
   "nbconvert_exporter": "python",
   "pygments_lexer": "ipython3",
   "version": "3.9.13"
  }
 },
 "nbformat": 4,
 "nbformat_minor": 5
}
